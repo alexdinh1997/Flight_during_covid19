{
 "cells": [
  {
   "cell_type": "code",
   "execution_count": 168,
   "id": "d88d8a88",
   "metadata": {},
   "outputs": [],
   "source": [
    "from pyspark.sql import SparkSession\n",
    "from pyspark.sql.functions import *\n",
    "\n",
    "import datetime\n",
    "\n",
    "import numpy as np\n",
    "import pandas as pd\n",
    "%matplotlib inline\n",
    "import matplotlib.pyplot as plt"
   ]
  },
  {
   "cell_type": "code",
   "execution_count": null,
   "id": "ab6689ed-a1e2-4f81-8bb9-fe14c85c1f64",
   "metadata": {},
   "outputs": [],
   "source": []
  },
  {
   "cell_type": "code",
   "execution_count": 70,
   "id": "efc37e5c-2733-4344-b3dd-7aa400a5fcfb",
   "metadata": {},
   "outputs": [],
   "source": [
    "# create session\n",
    "spark = SparkSession \\\n",
    "    .builder \\\n",
    "    .appName(\"Wrangling covid19 data\") \\\n",
    "    .getOrCreate()"
   ]
  },
  {
   "cell_type": "code",
   "execution_count": 72,
   "id": "5f3a1490-6a4e-4bd5-952e-d1364e4d6008",
   "metadata": {},
   "outputs": [],
   "source": [
    "path = \"data/jantojun2020.csv\"\n",
    "df = spark.read.csv(path,header=True)"
   ]
  },
  {
   "cell_type": "code",
   "execution_count": 73,
   "id": "fe98b6b8-9f88-446b-8c14-3892c388fe3b",
   "metadata": {},
   "outputs": [
    {
     "data": {
      "text/plain": [
       "2745847"
      ]
     },
     "execution_count": 73,
     "metadata": {},
     "output_type": "execute_result"
    }
   ],
   "source": [
    "df.count()"
   ]
  },
  {
   "cell_type": "code",
   "execution_count": 8,
   "id": "cb7e61cc-1aa3-4356-b572-a9b964584901",
   "metadata": {},
   "outputs": [
    {
     "name": "stdout",
     "output_type": "stream",
     "text": [
      "root\n",
      " |-- YEAR: string (nullable = true)\n",
      " |-- QUARTER: string (nullable = true)\n",
      " |-- MONTH: string (nullable = true)\n",
      " |-- DAY_OF_MONTH: string (nullable = true)\n",
      " |-- DAY_OF_WEEK: string (nullable = true)\n",
      " |-- FL_DATE: string (nullable = true)\n",
      " |-- MKT_UNIQUE_CARRIER: string (nullable = true)\n",
      " |-- MKT_CARRIER_FL_NUM: string (nullable = true)\n",
      " |-- TAIL_NUM: string (nullable = true)\n",
      " |-- ORIGIN: string (nullable = true)\n",
      " |-- ORIGIN_CITY_NAME: string (nullable = true)\n",
      " |-- ORIGIN_STATE_ABR: string (nullable = true)\n",
      " |-- ORIGIN_STATE_NM: string (nullable = true)\n",
      " |-- DEST: string (nullable = true)\n",
      " |-- DEST_CITY_NAME: string (nullable = true)\n",
      " |-- DEST_STATE_ABR: string (nullable = true)\n",
      " |-- DEST_STATE_NM: string (nullable = true)\n",
      " |-- CRS_DEP_TIME: string (nullable = true)\n",
      " |-- DEP_TIME: string (nullable = true)\n",
      " |-- DEP_DELAY: string (nullable = true)\n",
      " |-- DEP_DELAY_NEW: string (nullable = true)\n",
      " |-- DEP_DEL15: string (nullable = true)\n",
      " |-- DEP_DELAY_GROUP: string (nullable = true)\n",
      " |-- DEP_TIME_BLK: string (nullable = true)\n",
      " |-- TAXI_OUT: string (nullable = true)\n",
      " |-- WHEELS_OFF: string (nullable = true)\n",
      " |-- WHEELS_ON: string (nullable = true)\n",
      " |-- TAXI_IN: string (nullable = true)\n",
      " |-- CRS_ARR_TIME: string (nullable = true)\n",
      " |-- ARR_TIME: string (nullable = true)\n",
      " |-- ARR_DELAY: string (nullable = true)\n",
      " |-- ARR_DELAY_NEW: string (nullable = true)\n",
      " |-- ARR_DEL15: string (nullable = true)\n",
      " |-- ARR_DELAY_GROUP: string (nullable = true)\n",
      " |-- ARR_TIME_BLK: string (nullable = true)\n",
      " |-- CANCELLED: string (nullable = true)\n",
      " |-- CANCELLATION_CODE: string (nullable = true)\n",
      " |-- CRS_ELAPSED_TIME: string (nullable = true)\n",
      " |-- ACTUAL_ELAPSED_TIME: string (nullable = true)\n",
      " |-- AIR_TIME: string (nullable = true)\n",
      " |-- DISTANCE: string (nullable = true)\n",
      " |-- DISTANCE_GROUP: string (nullable = true)\n",
      " |-- CARRIER_DELAY: string (nullable = true)\n",
      " |-- WEATHER_DELAY: string (nullable = true)\n",
      " |-- NAS_DELAY: string (nullable = true)\n",
      " |-- SECURITY_DELAY: string (nullable = true)\n",
      " |-- LATE_AIRCRAFT_DELAY: string (nullable = true)\n",
      "\n"
     ]
    }
   ],
   "source": [
    "df.printSchema()"
   ]
  },
  {
   "cell_type": "code",
   "execution_count": 9,
   "id": "48715d53-16dd-49e7-a513-90843a557a1c",
   "metadata": {},
   "outputs": [
    {
     "name": "stdout",
     "output_type": "stream",
     "text": [
      "+----+-------+-----+------------+-----------+--------+------------------+------------------+--------+------+----------------+----------------+---------------+----+-----------------+--------------+-------------+------------+--------+---------+-------------+---------+---------------+------------+--------+----------+---------+-------+------------+--------+---------+-------------+---------+---------------+------------+---------+-----------------+----------------+-------------------+--------+--------+--------------+-------------+-------------+---------+--------------+-------------------+\n",
      "|YEAR|QUARTER|MONTH|DAY_OF_MONTH|DAY_OF_WEEK| FL_DATE|MKT_UNIQUE_CARRIER|MKT_CARRIER_FL_NUM|TAIL_NUM|ORIGIN|ORIGIN_CITY_NAME|ORIGIN_STATE_ABR|ORIGIN_STATE_NM|DEST|   DEST_CITY_NAME|DEST_STATE_ABR|DEST_STATE_NM|CRS_DEP_TIME|DEP_TIME|DEP_DELAY|DEP_DELAY_NEW|DEP_DEL15|DEP_DELAY_GROUP|DEP_TIME_BLK|TAXI_OUT|WHEELS_OFF|WHEELS_ON|TAXI_IN|CRS_ARR_TIME|ARR_TIME|ARR_DELAY|ARR_DELAY_NEW|ARR_DEL15|ARR_DELAY_GROUP|ARR_TIME_BLK|CANCELLED|CANCELLATION_CODE|CRS_ELAPSED_TIME|ACTUAL_ELAPSED_TIME|AIR_TIME|DISTANCE|DISTANCE_GROUP|CARRIER_DELAY|WEATHER_DELAY|NAS_DELAY|SECURITY_DELAY|LATE_AIRCRAFT_DELAY|\n",
      "+----+-------+-----+------------+-----------+--------+------------------+------------------+--------+------+----------------+----------------+---------------+----+-----------------+--------------+-------------+------------+--------+---------+-------------+---------+---------------+------------+--------+----------+---------+-------+------------+--------+---------+-------------+---------+---------------+------------+---------+-----------------+----------------+-------------------+--------+--------+--------------+-------------+-------------+---------+--------------+-------------------+\n",
      "|2020|      1|    1|           1|          3|1/1/2020|                WN|              5888|  N951WN|   ONT|     Ontario, CA|              CA|     California| SFO|San Francisco, CA|            CA|   California|        1810|  1851.0|     41.0|         41.0|      1.0|            2.0|   1800-1859|    44.0|    1935.0|   2049.0|    4.0|        1945|  2053.0|     68.0|         68.0|      1.0|            4.0|   1900-1959|        0|             null|            95.0|              122.0|    74.0|     363|             2|          8.0|          0.0|     27.0|           0.0|               33.0|\n",
      "|2020|      1|    1|           1|          3|1/1/2020|                WN|              6276|  N467WN|   ONT|     Ontario, CA|              CA|     California| SFO|San Francisco, CA|            CA|   California|        1150|  1146.0|     -4.0|          0.0|      0.0|           -1.0|   1100-1159|    13.0|    1159.0|   1310.0|    8.0|        1320|  1318.0|     -2.0|          0.0|      0.0|           -1.0|   1300-1359|        0|             null|            90.0|               92.0|    71.0|     363|             2|         null|         null|     null|          null|               null|\n",
      "|2020|      1|    1|           1|          3|1/1/2020|                WN|              4598|  N7885A|   ONT|     Ontario, CA|              CA|     California| SJC|     San Jose, CA|            CA|   California|        2020|  2016.0|     -4.0|          0.0|      0.0|           -1.0|   2000-2059|     8.0|    2024.0|   2121.0|    3.0|        2130|  2124.0|     -6.0|          0.0|      0.0|           -1.0|   2100-2159|        0|             null|            70.0|               68.0|    57.0|     333|             2|         null|         null|     null|          null|               null|\n",
      "|2020|      1|    1|           1|          3|1/1/2020|                WN|              4761|  N551WN|   ONT|     Ontario, CA|              CA|     California| SJC|     San Jose, CA|            CA|   California|        1340|  1350.0|     10.0|         10.0|      0.0|            0.0|   1300-1359|    10.0|    1400.0|   1503.0|    2.0|        1455|  1505.0|     10.0|         10.0|      0.0|            0.0|   1400-1459|        0|             null|            75.0|               75.0|    63.0|     333|             2|         null|         null|     null|          null|               null|\n",
      "|2020|      1|    1|           1|          3|1/1/2020|                WN|              5162|  N968WN|   ONT|     Ontario, CA|              CA|     California| SJC|     San Jose, CA|            CA|   California|         915|   916.0|      1.0|          1.0|      0.0|            0.0|   0900-0959|     6.0|     922.0|   1019.0|    4.0|        1035|  1023.0|    -12.0|          0.0|      0.0|           -1.0|   1000-1059|        0|             null|            80.0|               67.0|    57.0|     333|             2|         null|         null|     null|          null|               null|\n",
      "+----+-------+-----+------------+-----------+--------+------------------+------------------+--------+------+----------------+----------------+---------------+----+-----------------+--------------+-------------+------------+--------+---------+-------------+---------+---------------+------------+--------+----------+---------+-------+------------+--------+---------+-------------+---------+---------------+------------+---------+-----------------+----------------+-------------------+--------+--------+--------------+-------------+-------------+---------+--------------+-------------------+\n",
      "only showing top 5 rows\n",
      "\n"
     ]
    }
   ],
   "source": [
    "df.show(5)"
   ]
  },
  {
   "cell_type": "code",
   "execution_count": 12,
   "id": "f5818910-b53f-4969-bb8c-4ee5a3ea6b2f",
   "metadata": {},
   "outputs": [
    {
     "data": {
      "text/plain": [
       "[Row(YEAR='2020', QUARTER='1', MONTH='1', DAY_OF_MONTH='1', DAY_OF_WEEK='3', FL_DATE='1/1/2020', MKT_UNIQUE_CARRIER='WN', MKT_CARRIER_FL_NUM='5888', TAIL_NUM='N951WN', ORIGIN='ONT', ORIGIN_CITY_NAME='Ontario, CA', ORIGIN_STATE_ABR='CA', ORIGIN_STATE_NM='California', DEST='SFO', DEST_CITY_NAME='San Francisco, CA', DEST_STATE_ABR='CA', DEST_STATE_NM='California', CRS_DEP_TIME='1810', DEP_TIME='1851.0', DEP_DELAY='41.0', DEP_DELAY_NEW='41.0', DEP_DEL15='1.0', DEP_DELAY_GROUP='2.0', DEP_TIME_BLK='1800-1859', TAXI_OUT='44.0', WHEELS_OFF='1935.0', WHEELS_ON='2049.0', TAXI_IN='4.0', CRS_ARR_TIME='1945', ARR_TIME='2053.0', ARR_DELAY='68.0', ARR_DELAY_NEW='68.0', ARR_DEL15='1.0', ARR_DELAY_GROUP='4.0', ARR_TIME_BLK='1900-1959', CANCELLED='0', CANCELLATION_CODE=None, CRS_ELAPSED_TIME='95.0', ACTUAL_ELAPSED_TIME='122.0', AIR_TIME='74.0', DISTANCE='363', DISTANCE_GROUP='2', CARRIER_DELAY='8.0', WEATHER_DELAY='0.0', NAS_DELAY='27.0', SECURITY_DELAY='0.0', LATE_AIRCRAFT_DELAY='33.0')]"
      ]
     },
     "execution_count": 12,
     "metadata": {},
     "output_type": "execute_result"
    }
   ],
   "source": [
    "df.take(1)"
   ]
  },
  {
   "cell_type": "code",
   "execution_count": 14,
   "id": "2b1168a7-0166-44df-9248-c5236c3e131c",
   "metadata": {},
   "outputs": [
    {
     "data": {
      "text/plain": [
       "['YEAR',\n",
       " 'QUARTER',\n",
       " 'MONTH',\n",
       " 'DAY_OF_MONTH',\n",
       " 'DAY_OF_WEEK',\n",
       " 'FL_DATE',\n",
       " 'MKT_UNIQUE_CARRIER',\n",
       " 'MKT_CARRIER_FL_NUM',\n",
       " 'TAIL_NUM',\n",
       " 'ORIGIN',\n",
       " 'ORIGIN_CITY_NAME',\n",
       " 'ORIGIN_STATE_ABR',\n",
       " 'ORIGIN_STATE_NM',\n",
       " 'DEST',\n",
       " 'DEST_CITY_NAME',\n",
       " 'DEST_STATE_ABR',\n",
       " 'DEST_STATE_NM',\n",
       " 'CRS_DEP_TIME',\n",
       " 'DEP_TIME',\n",
       " 'DEP_DELAY',\n",
       " 'DEP_DELAY_NEW',\n",
       " 'DEP_DEL15',\n",
       " 'DEP_DELAY_GROUP',\n",
       " 'DEP_TIME_BLK',\n",
       " 'TAXI_OUT',\n",
       " 'WHEELS_OFF',\n",
       " 'WHEELS_ON',\n",
       " 'TAXI_IN',\n",
       " 'CRS_ARR_TIME',\n",
       " 'ARR_TIME',\n",
       " 'ARR_DELAY',\n",
       " 'ARR_DELAY_NEW',\n",
       " 'ARR_DEL15',\n",
       " 'ARR_DELAY_GROUP',\n",
       " 'ARR_TIME_BLK',\n",
       " 'CANCELLED',\n",
       " 'CANCELLATION_CODE',\n",
       " 'CRS_ELAPSED_TIME',\n",
       " 'ACTUAL_ELAPSED_TIME',\n",
       " 'AIR_TIME',\n",
       " 'DISTANCE',\n",
       " 'DISTANCE_GROUP',\n",
       " 'CARRIER_DELAY',\n",
       " 'WEATHER_DELAY',\n",
       " 'NAS_DELAY',\n",
       " 'SECURITY_DELAY',\n",
       " 'LATE_AIRCRAFT_DELAY']"
      ]
     },
     "execution_count": 14,
     "metadata": {},
     "output_type": "execute_result"
    }
   ],
   "source": [
    "df.columns"
   ]
  },
  {
   "cell_type": "code",
   "execution_count": 5,
   "id": "e3c89126-afe1-4643-919d-e1787370f541",
   "metadata": {},
   "outputs": [],
   "source": [
    "def create_airline_code(path):\n",
    "    with open(path) as f:\n",
    "        content = f.readlines()\n",
    "        content = [x.strip() for x in content]\n",
    "        airline = content[10:20]\n",
    "        splitted_airline = [c.split(\":\") for c in country]\n",
    "        c_country = [x[0].replace(\"'\",\"\").strip() for x in splitted_country]\n",
    "        country_name = [x[1].replace(\"'\",\"\").strip() for x in splitted_country]\n",
    "        country_df = pd.DataFrame({\"c_country\" : c_country, \"country_name\": country_name})\n",
    "        return country_df.to_csv(\"Data/country.csv\")"
   ]
  },
  {
   "cell_type": "code",
   "execution_count": 1,
   "id": "eb60c84c-a561-468a-849c-28c353e9cb00",
   "metadata": {},
   "outputs": [],
   "source": [
    "path = \"data/ColumnDescriptions.txt\""
   ]
  },
  {
   "cell_type": "code",
   "execution_count": 6,
   "id": "6a71640e-4e95-4ee2-8100-49db15b4fa9d",
   "metadata": {},
   "outputs": [],
   "source": [
    "with open(path) as f:\n",
    "    content = f.readlines()\n",
    "    content = [x.strip() for x in content]\n",
    "    airline = content[10:20]\n",
    "    splitted_airline = [c.split(\":\") for c in airline]"
   ]
  },
  {
   "cell_type": "code",
   "execution_count": 19,
   "id": "6043afed-eab1-4005-8716-13d9f8dc42de",
   "metadata": {},
   "outputs": [
    {
     "data": {
      "text/plain": [
       "['Note:\\t- All time is LOCAL time for departures and arrivals.',\n",
       " '- If Single or 2-Digit Values are present for a Time Value, they represent 00:MM (e.g. 3 represents 00:03 or 12:03 AM).',\n",
       " '',\n",
       " 'YEAR \\t\\t\\t- Year',\n",
       " 'QUARTER \\t\\t- 1: Jan-Mar, 2: Apr-Jun, 3: Jul-Sep, 4: Oct-Dec',\n",
       " 'MONTH \\t\\t\\t- Month of Year',\n",
       " 'DAY_OF_MONTH \\t\\t- Date of Month',\n",
       " 'DAY_OF_WEEK \\t\\t- Day of Week (1: Monday, 7: Sunday)',\n",
       " 'FL_DATE \\t\\t- Full flight date (M/DD/YYYY)',\n",
       " 'MKT_UNIQUE_CARRIER\\t- Airline Carrier Code:',\n",
       " 'AA: American Airlines',\n",
       " 'AS: Alaska Airlines',\n",
       " 'B6: JetBlue',\n",
       " 'DL: Delta Air Lines',\n",
       " 'F9: Frontier Airlines',\n",
       " 'G4: Allegiant Air',\n",
       " 'HA: Hawaiian Airlines',\n",
       " 'NK: Spirit Airlines',\n",
       " 'UA: United Airlines',\n",
       " 'WN: Southwest Airlines',\n",
       " 'MKT_CARRIER_FL_NUM\\t- Flight Number',\n",
       " \"TAIL_NUM\\t\\t- Aircraft Tail Number (Usually starts with 'N')\",\n",
       " 'ORIGIN\\t\\t\\t- Flight Departure 3-Letter Airport Abbreviation',\n",
       " 'ORIGIN_CITY_NAME\\t- Flight Departure City, State Names',\n",
       " 'ORIGIN_STATE_ABR\\t- Flight Departure 2-Letter State Abbreviation',\n",
       " 'ORIGIN_STATE_NM\\t\\t- Flight Departure State Name',\n",
       " 'DEST\\t\\t\\t- Flight Arrival 3-Letter Airport Abbreviation',\n",
       " 'DEST_CITY_NAME\\t\\t- Flight Arrival City, State Names',\n",
       " 'DEST_STATE_ABR\\t\\t- Flight Arrival 2-Letter State Abbreviation',\n",
       " 'DEST_STATE_NM\\t\\t- Flight Arrival State Name',\n",
       " 'CRS_DEP_TIME\\t\\t- Scheduled Departure Time (HHMM) (Single or 2-Digit Values Represent 00:MM, e.g. 3 represents 00:03 or 12:03 AM)',\n",
       " 'DEP_TIME\\t\\t- Actual Departure Time (HHMM)',\n",
       " 'DEP_DELAY\\t\\t- Departure Delay (Difference Between Actual Departure Time and Scheduled Departure Time in Minutes)',\n",
       " 'DEP_DELAY_NEW\\t\\t- Departure Delay Ignoring Early Departures (Listed as 0)',\n",
       " 'DEP_DEL15\\t\\t- Departure Delay Greater Than 15 Minutes (0: Not Greater Than 15, 1: Greater Than 15)',\n",
       " 'DEP_DELAY_GROUP\\t\\t- Departure Delay in Number of 15-minute increments Rounded Down (e.g. Early Departure (< 0) is a value of -1, 30 or 42 minutes is a value of 2)',\n",
       " 'DEP_TIME_BLK\\t\\t- Scheduled Departure Time in Hourly Block (HHMM)',\n",
       " 'TAXI_OUT\\t\\t- Time between Airplane Taxi from Gate and Takeoff (WHEELS_OFF) Time (in Minutes)',\n",
       " 'WHEELS_OFF\\t\\t- Time of Airplane Takeoff (HHMM)',\n",
       " 'WHEELS_ON\\t\\t- Time of Airplane Landing (HHMM)',\n",
       " 'TAXI_IN\\t\\t\\t- Time between Airplane Taxi to Gate and Landing (WHEELS_ON) Time (in Minutes)',\n",
       " 'CRS_ARR_TIME\\t\\t- Scheduled Arrival Time (HHMM) (Single or 2-Digit Values Represent 00:MM, e.g. 3 represents 00:03 or 12:03 AM)',\n",
       " 'ARR_TIME\\t\\t- Actual Arrival Time (HHMM)',\n",
       " 'ARR_DELAY\\t\\t- Arrival Delay (Difference Between Actual Arrival Time and Scheduled Arrival Time in Minutes)',\n",
       " 'ARR_DELAY_NEW\\t\\t- Arrival Delay Ignoring Early Arrivals (Listed as 0)',\n",
       " 'ARR_DEL15\\t\\t- Arrival Delay Greater Than 15 Minutes (0: Not Greater Than 15, 1: Greater Than 15)',\n",
       " 'ARR_DELAY_GROUP\\t\\t- Arrival Delay in Number of 15-minute increments Rounded Down (e.g. Early Arrival (< 0) is a value of -1, 30 or 42 minutes is a value of 2)',\n",
       " 'ARR_TIME_BLK\\t\\t- Scheduled Arrival Time in Hourly Block (HHMM)',\n",
       " 'CANCELLED\\t\\t- 0: Flight Not Cancelled, 1: Flight Cancelled',\n",
       " 'CANCELLATION_CODE\\t- Reason for Cancellation - if Cancelled, Letter Present (A: Carrier, B: Weather, C: National Aviation System, D: Security)',\n",
       " 'CRS_ELAPSED_TIME\\t- Scheduled Total Flight Time (in Minutes)',\n",
       " 'ACTUAL_ELAPSED_TIME\\t- Actual Total Elapsed Flight Time (in Minutes)',\n",
       " 'AIR_TIME\\t\\t- Actual Total Elapsed Time Airplane in the Air (in Minutes)',\n",
       " 'DISTANCE\\t\\t- Distance Between Departure and Arrival Airports (in Miles)',\n",
       " 'DISTANCE_GROUP\\t\\t- Distance Between Departure and Arrival Airports in Number of 250-Mile increments Rounded Down (e.g. 400 miles is a value of 1)',\n",
       " 'CARRIER_DELAY\\t\\t- Carrier Delay (in Minutes)',\n",
       " 'WEATHER_DELAY\\t\\t- Weather Delay (in Minutes)',\n",
       " 'NAS_DELAY\\t\\t- National Aviation System Delay (in Minutes)',\n",
       " 'SECURITY_DELAY\\t\\t- Security Delay (in Minutes)',\n",
       " 'LATE_AIRCRAFT_DELAY\\t- Late Aircraft Delay (in Minutes)',\n",
       " '']"
      ]
     },
     "execution_count": 19,
     "metadata": {},
     "output_type": "execute_result"
    }
   ],
   "source": [
    "content"
   ]
  },
  {
   "cell_type": "code",
   "execution_count": 7,
   "id": "d92e8cb9-3332-493f-b893-0e5af32e1fb5",
   "metadata": {},
   "outputs": [
    {
     "data": {
      "text/plain": [
       "[['AA', ' American Airlines'],\n",
       " ['AS', ' Alaska Airlines'],\n",
       " ['B6', ' JetBlue'],\n",
       " ['DL', ' Delta Air Lines'],\n",
       " ['F9', ' Frontier Airlines'],\n",
       " ['G4', ' Allegiant Air'],\n",
       " ['HA', ' Hawaiian Airlines'],\n",
       " ['NK', ' Spirit Airlines'],\n",
       " ['UA', ' United Airlines'],\n",
       " ['WN', ' Southwest Airlines']]"
      ]
     },
     "execution_count": 7,
     "metadata": {},
     "output_type": "execute_result"
    }
   ],
   "source": [
    "splitted_airline"
   ]
  },
  {
   "cell_type": "code",
   "execution_count": 8,
   "id": "e16a2538-bc60-4d26-a9ce-5dff427e688b",
   "metadata": {},
   "outputs": [],
   "source": [
    "c_airline = [x[0].replace(\"'\",\"\").strip() for x in splitted_airline]"
   ]
  },
  {
   "cell_type": "code",
   "execution_count": 9,
   "id": "f95d7993-2845-4968-b1e4-e54ba145f75c",
   "metadata": {},
   "outputs": [
    {
     "data": {
      "text/plain": [
       "['AA', 'AS', 'B6', 'DL', 'F9', 'G4', 'HA', 'NK', 'UA', 'WN']"
      ]
     },
     "execution_count": 9,
     "metadata": {},
     "output_type": "execute_result"
    }
   ],
   "source": [
    "c_airline"
   ]
  },
  {
   "cell_type": "code",
   "execution_count": 10,
   "id": "f55ba5a0-d32e-40a2-b2c9-5f6e3513169b",
   "metadata": {},
   "outputs": [],
   "source": [
    "airline_name = [x[1].replace(\"'\",\"\").strip() for x in splitted_airline]"
   ]
  },
  {
   "cell_type": "code",
   "execution_count": 12,
   "id": "1176b222-531c-45c5-93d6-0e9da1116cb9",
   "metadata": {},
   "outputs": [],
   "source": [
    "import pandas as pd"
   ]
  },
  {
   "cell_type": "code",
   "execution_count": 13,
   "id": "2c1aa86a-c348-402e-96b0-a40a8ad5e0eb",
   "metadata": {},
   "outputs": [],
   "source": [
    "airline_df = pd.DataFrame({\"c_airline\" : c_airline, \"airline_name\": airline_name})"
   ]
  },
  {
   "cell_type": "code",
   "execution_count": 14,
   "id": "2bcd716b-25f1-4d3d-95e4-115c4b9f98e6",
   "metadata": {},
   "outputs": [
    {
     "data": {
      "text/html": [
       "<div>\n",
       "<style scoped>\n",
       "    .dataframe tbody tr th:only-of-type {\n",
       "        vertical-align: middle;\n",
       "    }\n",
       "\n",
       "    .dataframe tbody tr th {\n",
       "        vertical-align: top;\n",
       "    }\n",
       "\n",
       "    .dataframe thead th {\n",
       "        text-align: right;\n",
       "    }\n",
       "</style>\n",
       "<table border=\"1\" class=\"dataframe\">\n",
       "  <thead>\n",
       "    <tr style=\"text-align: right;\">\n",
       "      <th></th>\n",
       "      <th>c_airline</th>\n",
       "      <th>airline_name</th>\n",
       "    </tr>\n",
       "  </thead>\n",
       "  <tbody>\n",
       "    <tr>\n",
       "      <th>0</th>\n",
       "      <td>AA</td>\n",
       "      <td>American Airlines</td>\n",
       "    </tr>\n",
       "    <tr>\n",
       "      <th>1</th>\n",
       "      <td>AS</td>\n",
       "      <td>Alaska Airlines</td>\n",
       "    </tr>\n",
       "    <tr>\n",
       "      <th>2</th>\n",
       "      <td>B6</td>\n",
       "      <td>JetBlue</td>\n",
       "    </tr>\n",
       "    <tr>\n",
       "      <th>3</th>\n",
       "      <td>DL</td>\n",
       "      <td>Delta Air Lines</td>\n",
       "    </tr>\n",
       "    <tr>\n",
       "      <th>4</th>\n",
       "      <td>F9</td>\n",
       "      <td>Frontier Airlines</td>\n",
       "    </tr>\n",
       "    <tr>\n",
       "      <th>5</th>\n",
       "      <td>G4</td>\n",
       "      <td>Allegiant Air</td>\n",
       "    </tr>\n",
       "    <tr>\n",
       "      <th>6</th>\n",
       "      <td>HA</td>\n",
       "      <td>Hawaiian Airlines</td>\n",
       "    </tr>\n",
       "    <tr>\n",
       "      <th>7</th>\n",
       "      <td>NK</td>\n",
       "      <td>Spirit Airlines</td>\n",
       "    </tr>\n",
       "    <tr>\n",
       "      <th>8</th>\n",
       "      <td>UA</td>\n",
       "      <td>United Airlines</td>\n",
       "    </tr>\n",
       "    <tr>\n",
       "      <th>9</th>\n",
       "      <td>WN</td>\n",
       "      <td>Southwest Airlines</td>\n",
       "    </tr>\n",
       "  </tbody>\n",
       "</table>\n",
       "</div>"
      ],
      "text/plain": [
       "  c_airline        airline_name\n",
       "0        AA   American Airlines\n",
       "1        AS     Alaska Airlines\n",
       "2        B6             JetBlue\n",
       "3        DL     Delta Air Lines\n",
       "4        F9   Frontier Airlines\n",
       "5        G4       Allegiant Air\n",
       "6        HA   Hawaiian Airlines\n",
       "7        NK     Spirit Airlines\n",
       "8        UA     United Airlines\n",
       "9        WN  Southwest Airlines"
      ]
     },
     "execution_count": 14,
     "metadata": {},
     "output_type": "execute_result"
    }
   ],
   "source": [
    "airline_df"
   ]
  },
  {
   "cell_type": "code",
   "execution_count": 17,
   "id": "e65cb47b-9dc3-4efe-95f5-b64a51d593ae",
   "metadata": {},
   "outputs": [],
   "source": [
    "def create_airline_code(path):\n",
    "    with open(path) as f:\n",
    "        content = f.readlines()\n",
    "        content = [x.strip() for x in content]\n",
    "        airline = content[10:20]\n",
    "        splitted_airline = [c.split(\":\") for c in airline]\n",
    "        c_airline = [x[0].replace(\"'\",\"\").strip() for x in splitted_airline]\n",
    "        airline_name = [x[1].replace(\"'\",\"\").strip() for x in splitted_airline]\n",
    "        airline_df = pd.DataFrame({\"c_airline\" : c_airline, \"airline_name\": airline_name})\n",
    "        return airline_df.to_csv(\"data/airline.csv\")"
   ]
  },
  {
   "cell_type": "code",
   "execution_count": 18,
   "id": "4c21e0a6-c235-4f38-9e6a-ecdd33260bc9",
   "metadata": {},
   "outputs": [],
   "source": [
    "create_airline_code(path)"
   ]
  },
  {
   "cell_type": "code",
   "execution_count": 20,
   "id": "c9c08f62-cfb2-43a5-a240-34f02a21b180",
   "metadata": {},
   "outputs": [],
   "source": [
    "def create_cancelation_code(path):\n",
    "    with open(path) as f:\n",
    "        content = f.readlines()\n",
    "        content = [x.strip() for x in content]\n",
    "        cancel = [re.search('\\(([^)]+)', content[49]).group(1)][0].split(\",\")\n",
    "        splitted_cancel = [c.split(\":\") for c in cancel]\n",
    "        c_cancel = [x[0].replace(\"'\",\"\").strip() for x in splitted_cancel]\n",
    "        cancel_des= [x[1].replace(\"'\",\"\").strip() for x in splitted_cancel]\n",
    "        cancel_df = pd.DataFrame({\"c_cancel\" : c_cancel, \"cancel_des\": cancel_des})\n",
    "        return cancel_df"
   ]
  },
  {
   "cell_type": "code",
   "execution_count": 30,
   "id": "370bcc6d-22d2-439d-a83b-4af2e6d778bc",
   "metadata": {},
   "outputs": [],
   "source": [
    " with open(path) as f:\n",
    "    content = f.readlines()\n",
    "    content = [x.strip() for x in content]\n",
    "    cancel = content[49]\n",
    "    splitted_cancel = [c.split(\":\") for c in cancel]"
   ]
  },
  {
   "cell_type": "code",
   "execution_count": 39,
   "id": "316ccf7f-716d-4fde-9d69-2ad5294b1299",
   "metadata": {},
   "outputs": [
    {
     "data": {
      "text/plain": [
       "['CANCELLATION_CODE\\t- Reason for Cancellation - if Cancelled, Letter Present (A: Carrier, B: Weather, C: National Aviation System, D: Security']"
      ]
     },
     "execution_count": 39,
     "metadata": {},
     "output_type": "execute_result"
    }
   ],
   "source": [
    "[content[49].split(')')[0] for p in content[49].split('(') if ')' in p]"
   ]
  },
  {
   "cell_type": "code",
   "execution_count": 40,
   "id": "d4e4a1f0-00f5-4345-924e-ed616258d547",
   "metadata": {},
   "outputs": [
    {
     "data": {
      "text/plain": [
       "'CANCELLATION_CODE\\t- Reason for Cancellation - if Cancelled, Letter Present (A: Carrier, B: Weather, C: National Aviation System, D: Security)'"
      ]
     },
     "execution_count": 40,
     "metadata": {},
     "output_type": "execute_result"
    }
   ],
   "source": [
    "content[49]"
   ]
  },
  {
   "cell_type": "code",
   "execution_count": 65,
   "id": "6229bff8-3019-49fa-b07f-19e19c93afb5",
   "metadata": {},
   "outputs": [
    {
     "data": {
      "text/plain": [
       "['A: Carrier', ' B: Weather', ' C: National Aviation System', ' D: Security']"
      ]
     },
     "execution_count": 65,
     "metadata": {},
     "output_type": "execute_result"
    }
   ],
   "source": [
    "import re\n",
    "cancel = [re.search('\\(([^)]+)', content[49]).group(1)][0].split(\",\")\n",
    "cancel"
   ]
  },
  {
   "cell_type": "code",
   "execution_count": 58,
   "id": "be684f5e-9248-42c9-a484-b91374d352ca",
   "metadata": {},
   "outputs": [
    {
     "ename": "AttributeError",
     "evalue": "'list' object has no attribute 'split'",
     "output_type": "error",
     "traceback": [
      "\u001b[0;31m---------------------------------------------------------------------------\u001b[0m",
      "\u001b[0;31mAttributeError\u001b[0m                            Traceback (most recent call last)",
      "Input \u001b[0;32mIn [58]\u001b[0m, in \u001b[0;36m<module>\u001b[0;34m\u001b[0m\n\u001b[0;32m----> 1\u001b[0m \u001b[43mcancel\u001b[49m\u001b[38;5;241;43m.\u001b[39;49m\u001b[43msplit\u001b[49m(\u001b[38;5;124m\"\u001b[39m\u001b[38;5;124m,\u001b[39m\u001b[38;5;124m\"\u001b[39m)\n",
      "\u001b[0;31mAttributeError\u001b[0m: 'list' object has no attribute 'split'"
     ]
    }
   ],
   "source": [
    "cancel.split(\",\")"
   ]
  },
  {
   "cell_type": "code",
   "execution_count": 64,
   "id": "d1fcd687-1720-46f0-b218-c2f31279a557",
   "metadata": {},
   "outputs": [
    {
     "data": {
      "text/plain": [
       "[['A', ' Carrier'],\n",
       " [' B', ' Weather'],\n",
       " [' C', ' National Aviation System'],\n",
       " [' D', ' Security']]"
      ]
     },
     "execution_count": 64,
     "metadata": {},
     "output_type": "execute_result"
    }
   ],
   "source": [
    "splitted_cancel = [c.split(\":\") for c in cancel]\n",
    "splitted_cancel"
   ]
  },
  {
   "cell_type": "code",
   "execution_count": 66,
   "id": "34c6d592-c859-409f-ab21-c29f220664d5",
   "metadata": {},
   "outputs": [],
   "source": [
    "def create_cancelation_code(path):\n",
    "    with open(path) as f:\n",
    "        content = f.readlines()\n",
    "        content = [x.strip() for x in content]\n",
    "        cancel = [re.search('\\(([^)]+)', content[49]).group(1)][0].split(\",\")\n",
    "        splitted_cancel = [c.split(\":\") for c in cancel]\n",
    "        c_cancel = [x[0].replace(\"'\",\"\").strip() for x in splitted_cancel]\n",
    "        cancel_des= [x[1].replace(\"'\",\"\").strip() for x in splitted_cancel]\n",
    "        cancel_df = pd.DataFrame({\"c_cancel\" : c_cancel, \"cancel_des\": cancel_des})\n",
    "        return cancel_df"
   ]
  },
  {
   "cell_type": "code",
   "execution_count": 67,
   "id": "675b74c4-84bd-4d83-b743-6c63fd7b88ef",
   "metadata": {},
   "outputs": [
    {
     "data": {
      "text/html": [
       "<div>\n",
       "<style scoped>\n",
       "    .dataframe tbody tr th:only-of-type {\n",
       "        vertical-align: middle;\n",
       "    }\n",
       "\n",
       "    .dataframe tbody tr th {\n",
       "        vertical-align: top;\n",
       "    }\n",
       "\n",
       "    .dataframe thead th {\n",
       "        text-align: right;\n",
       "    }\n",
       "</style>\n",
       "<table border=\"1\" class=\"dataframe\">\n",
       "  <thead>\n",
       "    <tr style=\"text-align: right;\">\n",
       "      <th></th>\n",
       "      <th>c_cancel</th>\n",
       "      <th>cancel_des</th>\n",
       "    </tr>\n",
       "  </thead>\n",
       "  <tbody>\n",
       "    <tr>\n",
       "      <th>0</th>\n",
       "      <td>A</td>\n",
       "      <td>Carrier</td>\n",
       "    </tr>\n",
       "    <tr>\n",
       "      <th>1</th>\n",
       "      <td>B</td>\n",
       "      <td>Weather</td>\n",
       "    </tr>\n",
       "    <tr>\n",
       "      <th>2</th>\n",
       "      <td>C</td>\n",
       "      <td>National Aviation System</td>\n",
       "    </tr>\n",
       "    <tr>\n",
       "      <th>3</th>\n",
       "      <td>D</td>\n",
       "      <td>Security</td>\n",
       "    </tr>\n",
       "  </tbody>\n",
       "</table>\n",
       "</div>"
      ],
      "text/plain": [
       "  c_cancel                cancel_des\n",
       "0        A                   Carrier\n",
       "1        B                   Weather\n",
       "2        C  National Aviation System\n",
       "3        D                  Security"
      ]
     },
     "execution_count": 67,
     "metadata": {},
     "output_type": "execute_result"
    }
   ],
   "source": [
    "create_cancelation_code(path)"
   ]
  },
  {
   "cell_type": "code",
   "execution_count": 74,
   "id": "6f6a1414-4c10-418d-acae-e61aa1b9b5d0",
   "metadata": {},
   "outputs": [
    {
     "name": "stdout",
     "output_type": "stream",
     "text": [
      "root\n",
      " |-- YEAR: string (nullable = true)\n",
      " |-- QUARTER: string (nullable = true)\n",
      " |-- MONTH: string (nullable = true)\n",
      " |-- DAY_OF_MONTH: string (nullable = true)\n",
      " |-- DAY_OF_WEEK: string (nullable = true)\n",
      " |-- FL_DATE: string (nullable = true)\n",
      " |-- MKT_UNIQUE_CARRIER: string (nullable = true)\n",
      " |-- MKT_CARRIER_FL_NUM: string (nullable = true)\n",
      " |-- TAIL_NUM: string (nullable = true)\n",
      " |-- ORIGIN: string (nullable = true)\n",
      " |-- ORIGIN_CITY_NAME: string (nullable = true)\n",
      " |-- ORIGIN_STATE_ABR: string (nullable = true)\n",
      " |-- ORIGIN_STATE_NM: string (nullable = true)\n",
      " |-- DEST: string (nullable = true)\n",
      " |-- DEST_CITY_NAME: string (nullable = true)\n",
      " |-- DEST_STATE_ABR: string (nullable = true)\n",
      " |-- DEST_STATE_NM: string (nullable = true)\n",
      " |-- CRS_DEP_TIME: string (nullable = true)\n",
      " |-- DEP_TIME: string (nullable = true)\n",
      " |-- DEP_DELAY: string (nullable = true)\n",
      " |-- DEP_DELAY_NEW: string (nullable = true)\n",
      " |-- DEP_DEL15: string (nullable = true)\n",
      " |-- DEP_DELAY_GROUP: string (nullable = true)\n",
      " |-- DEP_TIME_BLK: string (nullable = true)\n",
      " |-- TAXI_OUT: string (nullable = true)\n",
      " |-- WHEELS_OFF: string (nullable = true)\n",
      " |-- WHEELS_ON: string (nullable = true)\n",
      " |-- TAXI_IN: string (nullable = true)\n",
      " |-- CRS_ARR_TIME: string (nullable = true)\n",
      " |-- ARR_TIME: string (nullable = true)\n",
      " |-- ARR_DELAY: string (nullable = true)\n",
      " |-- ARR_DELAY_NEW: string (nullable = true)\n",
      " |-- ARR_DEL15: string (nullable = true)\n",
      " |-- ARR_DELAY_GROUP: string (nullable = true)\n",
      " |-- ARR_TIME_BLK: string (nullable = true)\n",
      " |-- CANCELLED: string (nullable = true)\n",
      " |-- CANCELLATION_CODE: string (nullable = true)\n",
      " |-- CRS_ELAPSED_TIME: string (nullable = true)\n",
      " |-- ACTUAL_ELAPSED_TIME: string (nullable = true)\n",
      " |-- AIR_TIME: string (nullable = true)\n",
      " |-- DISTANCE: string (nullable = true)\n",
      " |-- DISTANCE_GROUP: string (nullable = true)\n",
      " |-- CARRIER_DELAY: string (nullable = true)\n",
      " |-- WEATHER_DELAY: string (nullable = true)\n",
      " |-- NAS_DELAY: string (nullable = true)\n",
      " |-- SECURITY_DELAY: string (nullable = true)\n",
      " |-- LATE_AIRCRAFT_DELAY: string (nullable = true)\n",
      "\n"
     ]
    }
   ],
   "source": [
    "df.printSchema()"
   ]
  },
  {
   "cell_type": "code",
   "execution_count": 119,
   "id": "879a10b7-028a-41f9-9216-276c34046f74",
   "metadata": {},
   "outputs": [
    {
     "name": "stdout",
     "output_type": "stream",
     "text": [
      "+---------------+\n",
      "|DEP_DELAY_GROUP|\n",
      "+---------------+\n",
      "|            1.0|\n",
      "|           null|\n",
      "|            0.0|\n",
      "|            9.0|\n",
      "|           12.0|\n",
      "|           10.0|\n",
      "|           -2.0|\n",
      "|            5.0|\n",
      "|            6.0|\n",
      "|            4.0|\n",
      "|            7.0|\n",
      "|           -1.0|\n",
      "|           11.0|\n",
      "|            2.0|\n",
      "|            8.0|\n",
      "|            3.0|\n",
      "+---------------+\n",
      "\n"
     ]
    }
   ],
   "source": [
    "df.select(\"DEP_DELAY_GROUP\").dropDuplicates().show()"
   ]
  },
  {
   "cell_type": "code",
   "execution_count": 133,
   "id": "a1a8573a-d1e2-4517-9182-5b92232f1b19",
   "metadata": {},
   "outputs": [
    {
     "name": "stdout",
     "output_type": "stream",
     "text": [
      "+---------------+------+\n",
      "|ARR_DELAY_GROUP| count|\n",
      "+---------------+------+\n",
      "|           -1.0|942820|\n",
      "|           -2.0|915903|\n",
      "|            0.0|321564|\n",
      "|           null|287334|\n",
      "|            1.0|108905|\n",
      "|            2.0| 51949|\n",
      "|            3.0| 30626|\n",
      "|            4.0| 20354|\n",
      "|           12.0| 15647|\n",
      "|            5.0| 14416|\n",
      "|            6.0| 10471|\n",
      "|            7.0|  8004|\n",
      "|            8.0|  6191|\n",
      "|            9.0|  4905|\n",
      "|           10.0|  3792|\n",
      "|           11.0|  2966|\n",
      "+---------------+------+\n",
      "\n"
     ]
    }
   ],
   "source": [
    "df.groupBy(\"ARR_DELAY_GROUP\").count().orderBy(desc(\"count\")).show()"
   ]
  },
  {
   "cell_type": "code",
   "execution_count": 134,
   "id": "b3da55db-af3a-4097-a3e7-b2b5987b113b",
   "metadata": {
    "tags": []
   },
   "outputs": [
    {
     "name": "stdout",
     "output_type": "stream",
     "text": [
      "+---------+-------+\n",
      "|ARR_DEL15|  count|\n",
      "+---------+-------+\n",
      "|      0.0|2180287|\n",
      "|     null| 287334|\n",
      "|      1.0| 278226|\n",
      "+---------+-------+\n",
      "\n"
     ]
    }
   ],
   "source": [
    "df.groupBy(\"ARR_DEL15\").count().orderBy(desc(\"count\")).show()"
   ]
  },
  {
   "cell_type": "code",
   "execution_count": 90,
   "id": "b9092943-e284-4b55-97f2-d3a8144c7834",
   "metadata": {},
   "outputs": [
    {
     "data": {
      "text/plain": [
       "281992"
      ]
     },
     "execution_count": 90,
     "metadata": {},
     "output_type": "execute_result"
    }
   ],
   "source": [
    "df.filter(\"DEP_DEL15 is null\").count()"
   ]
  },
  {
   "cell_type": "code",
   "execution_count": 96,
   "id": "b521f8a6-c554-4369-b678-b8c48117cec4",
   "metadata": {},
   "outputs": [
    {
     "name": "stdout",
     "output_type": "stream",
     "text": [
      "+--------------+\n",
      "|DISTANCE_GROUP|\n",
      "+--------------+\n",
      "|             7|\n",
      "|            11|\n",
      "|             3|\n",
      "|             8|\n",
      "|             5|\n",
      "|             6|\n",
      "|             9|\n",
      "|             1|\n",
      "|            10|\n",
      "|             4|\n",
      "|             2|\n",
      "+--------------+\n",
      "\n"
     ]
    }
   ],
   "source": [
    "df.select('DISTANCE_GROUP').dropDuplicates().show()"
   ]
  },
  {
   "cell_type": "code",
   "execution_count": 99,
   "id": "6c9ec1e3-4102-4f31-8d8a-4966aedde4ac",
   "metadata": {},
   "outputs": [
    {
     "name": "stdout",
     "output_type": "stream",
     "text": [
      "+--------+\n",
      "|DISTANCE|\n",
      "+--------+\n",
      "|     363|\n",
      "|     363|\n",
      "|     333|\n",
      "|     333|\n",
      "|     333|\n",
      "|     333|\n",
      "|     333|\n",
      "|     390|\n",
      "|     390|\n",
      "|     390|\n",
      "+--------+\n",
      "only showing top 10 rows\n",
      "\n"
     ]
    }
   ],
   "source": [
    "df.select('DISTANCE').show(10)"
   ]
  },
  {
   "cell_type": "code",
   "execution_count": 114,
   "id": "5d7eb81e-9b41-491c-b971-e683d4d510b4",
   "metadata": {},
   "outputs": [],
   "source": [
    "df_distance = df.select('DISTANCE_GROUP').dropDuplicates().orderBy(asc('DISTANCE_GROUP'))\n"
   ]
  },
  {
   "cell_type": "code",
   "execution_count": 115,
   "id": "3341ffa8-b4c0-44fb-aba7-ddda43f18ea5",
   "metadata": {},
   "outputs": [
    {
     "data": {
      "text/plain": [
       "DataFrame[summary: string, DISTANCE_GROUP: string]"
      ]
     },
     "execution_count": 115,
     "metadata": {},
     "output_type": "execute_result"
    }
   ],
   "source": [
    "df_distance.describe()"
   ]
  },
  {
   "cell_type": "code",
   "execution_count": 136,
   "id": "7dbdf1ef-db21-4c66-9782-cb90d083d067",
   "metadata": {},
   "outputs": [
    {
     "name": "stdout",
     "output_type": "stream",
     "text": [
      "root\n",
      " |-- YEAR: string (nullable = true)\n",
      " |-- QUARTER: string (nullable = true)\n",
      " |-- MONTH: string (nullable = true)\n",
      " |-- DAY_OF_MONTH: string (nullable = true)\n",
      " |-- DAY_OF_WEEK: string (nullable = true)\n",
      " |-- FL_DATE: string (nullable = true)\n",
      " |-- MKT_UNIQUE_CARRIER: string (nullable = true)\n",
      " |-- MKT_CARRIER_FL_NUM: string (nullable = true)\n",
      " |-- TAIL_NUM: string (nullable = true)\n",
      " |-- ORIGIN: string (nullable = true)\n",
      " |-- ORIGIN_CITY_NAME: string (nullable = true)\n",
      " |-- ORIGIN_STATE_ABR: string (nullable = true)\n",
      " |-- ORIGIN_STATE_NM: string (nullable = true)\n",
      " |-- DEST: string (nullable = true)\n",
      " |-- DEST_CITY_NAME: string (nullable = true)\n",
      " |-- DEST_STATE_ABR: string (nullable = true)\n",
      " |-- DEST_STATE_NM: string (nullable = true)\n",
      " |-- CRS_DEP_TIME: string (nullable = true)\n",
      " |-- DEP_TIME: string (nullable = true)\n",
      " |-- DEP_DELAY: string (nullable = true)\n",
      " |-- DEP_DELAY_NEW: string (nullable = true)\n",
      " |-- DEP_DEL15: string (nullable = true)\n",
      " |-- DEP_DELAY_GROUP: string (nullable = true)\n",
      " |-- DEP_TIME_BLK: string (nullable = true)\n",
      " |-- TAXI_OUT: string (nullable = true)\n",
      " |-- WHEELS_OFF: string (nullable = true)\n",
      " |-- WHEELS_ON: string (nullable = true)\n",
      " |-- TAXI_IN: string (nullable = true)\n",
      " |-- CRS_ARR_TIME: string (nullable = true)\n",
      " |-- ARR_TIME: string (nullable = true)\n",
      " |-- ARR_DELAY: string (nullable = true)\n",
      " |-- ARR_DELAY_NEW: string (nullable = true)\n",
      " |-- ARR_DEL15: string (nullable = true)\n",
      " |-- ARR_DELAY_GROUP: string (nullable = true)\n",
      " |-- ARR_TIME_BLK: string (nullable = true)\n",
      " |-- CANCELLED: string (nullable = true)\n",
      " |-- CANCELLATION_CODE: string (nullable = true)\n",
      " |-- CRS_ELAPSED_TIME: string (nullable = true)\n",
      " |-- ACTUAL_ELAPSED_TIME: string (nullable = true)\n",
      " |-- AIR_TIME: string (nullable = true)\n",
      " |-- DISTANCE: string (nullable = true)\n",
      " |-- DISTANCE_GROUP: string (nullable = true)\n",
      " |-- CARRIER_DELAY: string (nullable = true)\n",
      " |-- WEATHER_DELAY: string (nullable = true)\n",
      " |-- NAS_DELAY: string (nullable = true)\n",
      " |-- SECURITY_DELAY: string (nullable = true)\n",
      " |-- LATE_AIRCRAFT_DELAY: string (nullable = true)\n",
      "\n"
     ]
    }
   ],
   "source": [
    "df.printSchema()"
   ]
  },
  {
   "cell_type": "code",
   "execution_count": 139,
   "id": "2a32bbb8-3b73-45ee-8c46-7c3b60562c8a",
   "metadata": {},
   "outputs": [
    {
     "name": "stdout",
     "output_type": "stream",
     "text": [
      "+---------------+\n",
      "|DEP_DELAY_GROUP|\n",
      "+---------------+\n",
      "|            1.0|\n",
      "|           null|\n",
      "|            0.0|\n",
      "|            9.0|\n",
      "|           12.0|\n",
      "|           10.0|\n",
      "|           -2.0|\n",
      "|            5.0|\n",
      "|            6.0|\n",
      "|            4.0|\n",
      "|            7.0|\n",
      "|           -1.0|\n",
      "|           11.0|\n",
      "|            2.0|\n",
      "|            8.0|\n",
      "|            3.0|\n",
      "+---------------+\n",
      "\n"
     ]
    }
   ],
   "source": [
    "df.select(\"DEP_DELAY_GROUP\").dropDuplicates().show()"
   ]
  },
  {
   "cell_type": "code",
   "execution_count": 141,
   "id": "e025da7c-86b7-40ca-b2c1-c42a12e89216",
   "metadata": {},
   "outputs": [
    {
     "name": "stdout",
     "output_type": "stream",
     "text": [
      "+---------+---------------+\n",
      "|DEP_DELAY|DEP_DELAY_GROUP|\n",
      "+---------+---------------+\n",
      "|     86.0|            5.0|\n",
      "|    210.0|           12.0|\n",
      "|    706.0|           12.0|\n",
      "|    865.0|           12.0|\n",
      "|   1025.0|           12.0|\n",
      "|   1359.0|           12.0|\n",
      "|     24.0|            1.0|\n",
      "|     22.0|            1.0|\n",
      "|    468.0|           12.0|\n",
      "|    717.0|           12.0|\n",
      "|    102.0|            6.0|\n",
      "|    269.0|           12.0|\n",
      "|    324.0|           12.0|\n",
      "|    402.0|           12.0|\n",
      "|    764.0|           12.0|\n",
      "|     11.0|            0.0|\n",
      "|    272.0|           12.0|\n",
      "|    657.0|           12.0|\n",
      "|     62.0|            4.0|\n",
      "|     70.0|            4.0|\n",
      "+---------+---------------+\n",
      "only showing top 20 rows\n",
      "\n"
     ]
    }
   ],
   "source": [
    "df.select(\"DEP_DELAY\",\"DEP_DELAY_GROUP\").dropDuplicates().show()"
   ]
  },
  {
   "cell_type": "code",
   "execution_count": 142,
   "id": "0dd0a735-661c-47cd-bed4-994576c4b43e",
   "metadata": {},
   "outputs": [],
   "source": [
    "df_dep_delay = df.select(\"DEP_DELAY\",\"DEP_DELAY_GROUP\")"
   ]
  },
  {
   "cell_type": "code",
   "execution_count": 147,
   "id": "29808457-c4b1-45a8-9930-9b0ecc876de7",
   "metadata": {},
   "outputs": [
    {
     "data": {
      "text/plain": [
       "3"
      ]
     },
     "execution_count": 147,
     "metadata": {},
     "output_type": "execute_result"
    }
   ],
   "source": []
  },
  {
   "cell_type": "code",
   "execution_count": 193,
   "id": "16ce4b47-c676-403b-96eb-93e612fbfffe",
   "metadata": {},
   "outputs": [],
   "source": [
    "df_delay_dep=df.withColumn(\"DEP_DELAY\",df.DEP_DELAY.cast(\"int\")).withColumn(\"DEP_DELAY_GROUP\",df.DEP_DELAY_GROUP.cast(\"int\")).select(\"DEP_DELAY\",\"DEP_DELAY_GROUP\")"
   ]
  },
  {
   "cell_type": "code",
   "execution_count": 194,
   "id": "a2778fdc-e822-4339-9037-79ede95fd3c3",
   "metadata": {},
   "outputs": [],
   "source": [
    "df_delay_dep=df_delay_dep.withColumn(\"Dep_test\", when(df_delay_dep.DEP_DELAY < 0, -1).otherwise(floor(col(\"DEP_DELAY\")/ 15)))"
   ]
  },
  {
   "cell_type": "code",
   "execution_count": 196,
   "id": "f2e744b1-c615-4b8c-8416-ac646e65c046",
   "metadata": {},
   "outputs": [],
   "source": [
    "df_delay_dep=df_delay_dep.withColumn(\"test\",col(\"DEP_DELAY_GROUP\")==col(\"Dep_test\"))"
   ]
  },
  {
   "cell_type": "code",
   "execution_count": 199,
   "id": "4ab2adb6-58fa-47fc-9f68-211fc1d063f2",
   "metadata": {},
   "outputs": [
    {
     "data": {
      "text/plain": [
       "281992"
      ]
     },
     "execution_count": 199,
     "metadata": {},
     "output_type": "execute_result"
    }
   ],
   "source": [
    "df_delay_dep.filter(\"test is null\").count()"
   ]
  },
  {
   "cell_type": "code",
   "execution_count": 200,
   "id": "1a084bf1-1a0f-4a11-9643-702c23865fe6",
   "metadata": {},
   "outputs": [
    {
     "name": "stdout",
     "output_type": "stream",
     "text": [
      "+---------+---------------+--------+-----+\n",
      "|DEP_DELAY|DEP_DELAY_GROUP|Dep_test| test|\n",
      "+---------+---------------+--------+-----+\n",
      "|      261|             12|      17|false|\n",
      "|      220|             12|      14|false|\n",
      "|      226|             12|      15|false|\n",
      "|      197|             12|      13|false|\n",
      "|      211|             12|      14|false|\n",
      "|      204|             12|      13|false|\n",
      "|      220|             12|      14|false|\n",
      "|      -19|             -2|      -1|false|\n",
      "|      195|             12|      13|false|\n",
      "|      204|             12|      13|false|\n",
      "|      208|             12|      13|false|\n",
      "|      289|             12|      19|false|\n",
      "|      426|             12|      28|false|\n",
      "|      -19|             -2|      -1|false|\n",
      "|      259|             12|      17|false|\n",
      "|      240|             12|      16|false|\n",
      "|      223|             12|      14|false|\n",
      "|      578|             12|      38|false|\n",
      "|      317|             12|      21|false|\n",
      "|      325|             12|      21|false|\n",
      "+---------+---------------+--------+-----+\n",
      "only showing top 20 rows\n",
      "\n"
     ]
    }
   ],
   "source": [
    "df_delay_dep.filter(\"test is false\").show()"
   ]
  },
  {
   "cell_type": "code",
   "execution_count": 201,
   "id": "33920412-aa46-41b4-8626-ff8a42a2fc84",
   "metadata": {},
   "outputs": [
    {
     "data": {
      "text/plain": [
       "56759"
      ]
     },
     "execution_count": 201,
     "metadata": {},
     "output_type": "execute_result"
    }
   ],
   "source": [
    "df_delay_dep.filter(\"test is false\").count()"
   ]
  },
  {
   "cell_type": "code",
   "execution_count": 209,
   "id": "36582f7b-ead9-4258-8f0f-180783b43ca0",
   "metadata": {},
   "outputs": [
    {
     "name": "stdout",
     "output_type": "stream",
     "text": [
      "+---------------+\n",
      "|DEP_DELAY_GROUP|\n",
      "+---------------+\n",
      "|             -2|\n",
      "+---------------+\n",
      "\n"
     ]
    }
   ],
   "source": [
    "df_delay_dep.filter(\"DEP_DELAY_GROUP < -1\").select(\"DEP_DELAY_GROUP\").dropDuplicates().show()"
   ]
  },
  {
   "cell_type": "code",
   "execution_count": 204,
   "id": "18951a33-8734-48cd-95c4-18dba2b9cd14",
   "metadata": {},
   "outputs": [
    {
     "name": "stdout",
     "output_type": "stream",
     "text": [
      "+-------+--------------------+\n",
      "|summary|            Dep_test|\n",
      "+-------+--------------------+\n",
      "|  count|             2463855|\n",
      "|   mean|-0.28939162410125596|\n",
      "| stddev|  2.6339863347450208|\n",
      "|    min|                  -1|\n",
      "|    max|                 187|\n",
      "+-------+--------------------+\n",
      "\n"
     ]
    }
   ],
   "source": [
    "df_delay_dep.select(\"Dep_test\").describe().show()"
   ]
  },
  {
   "cell_type": "code",
   "execution_count": 216,
   "id": "42dc5630-afd7-4a89-9ad5-7bddade3728b",
   "metadata": {},
   "outputs": [
    {
     "ename": "SyntaxError",
     "evalue": "invalid syntax (206136815.py, line 1)",
     "output_type": "error",
     "traceback": [
      "\u001b[0;36m  Input \u001b[0;32mIn [216]\u001b[0;36m\u001b[0m\n\u001b[0;31m    (df_delay_dep=df.withColumn(\"DEP_DELAY\",df.DEP_DELAY.cast(\"int\"))\u001b[0m\n\u001b[0m                 ^\u001b[0m\n\u001b[0;31mSyntaxError\u001b[0m\u001b[0;31m:\u001b[0m invalid syntax\n"
     ]
    }
   ],
   "source": [
    "(df_delay_dep=df.withColumn(\"DEP_DELAY\",df.DEP_DELAY.cast(\"int\"))\n",
    "            .withColumn(\"DEP_DELAY_GROUP\",df.DEP_DELAY_GROUP.cast(\"int\"))\n",
    "            .select(\"DEP_DELAY\",\"DEP_DELAY_GROUP\"))\n",
    "            .withColumn(\"Dep_test\", when(df_delay_dep.DEP_DELAY < 0, -1)\n",
    "            .otherwise(floor(col(\"DEP_DELAY\")/ 15)))\n",
    "            .withColumn(\"test\",col(\"DEP_DELAY_GROUP\")==col(\"Dep_test\")))"
   ]
  },
  {
   "cell_type": "code",
   "execution_count": 219,
   "id": "40098ab3-2a18-4ad7-b617-c10c8e211a0a",
   "metadata": {},
   "outputs": [],
   "source": [
    "df_delay_ARR=(df.withColumn(\"ARR_DELAY\",df.ARR_DELAY.cast(\"int\"))\n",
    "            .withColumn(\"ARR_DELAY_GROUP\",df.ARR_DELAY_GROUP.cast(\"int\"))\n",
    "            .select(\"ARR_DELAY\",\"ARR_DELAY_GROUP\")\n",
    "            .withColumn(\"ARR_test\", when(col(\"ARR_DELAY\") < 0, -1)\n",
    "            .otherwise(floor(col(\"ARR_DELAY\")/ 15)))\n",
    "            .withColumn(\"test\",col(\"ARR_DELAY_GROUP\")==col(\"ARR_test\")))"
   ]
  },
  {
   "cell_type": "code",
   "execution_count": 223,
   "id": "ef94998c-1094-439a-a5b3-d69ee9b3623a",
   "metadata": {},
   "outputs": [
    {
     "name": "stdout",
     "output_type": "stream",
     "text": [
      "+---------+---------------+--------+-----+\n",
      "|ARR_DELAY|ARR_DELAY_GROUP|ARR_test| test|\n",
      "+---------+---------------+--------+-----+\n",
      "|       68|              4|       4| true|\n",
      "|       -2|             -1|      -1| true|\n",
      "|       -6|             -1|      -1| true|\n",
      "|       10|              0|       0| true|\n",
      "|      -12|             -1|      -1| true|\n",
      "|        7|              0|       0| true|\n",
      "|       -4|             -1|      -1| true|\n",
      "|       47|              3|       3| true|\n",
      "|       10|              0|       0| true|\n",
      "|        4|              0|       0| true|\n",
      "|       -8|             -1|      -1| true|\n",
      "|        2|              0|       0| true|\n",
      "|        1|              0|       0| true|\n",
      "|       -1|             -1|      -1| true|\n",
      "|       42|              2|       2| true|\n",
      "|      -15|             -1|      -1| true|\n",
      "|      -18|             -2|      -1|false|\n",
      "|      -17|             -2|      -1|false|\n",
      "|      -18|             -2|      -1|false|\n",
      "|      -16|             -2|      -1|false|\n",
      "+---------+---------------+--------+-----+\n",
      "only showing top 20 rows\n",
      "\n"
     ]
    }
   ],
   "source": [
    "df_delay_ARR.show()"
   ]
  },
  {
   "cell_type": "code",
   "execution_count": 226,
   "id": "7f6fa698-b9ee-4fb7-890f-d660d882ec49",
   "metadata": {},
   "outputs": [
    {
     "name": "stdout",
     "output_type": "stream",
     "text": [
      "+-------+--------------------+\n",
      "|summary|            ARR_test|\n",
      "+-------+--------------------+\n",
      "|  count|             2458513|\n",
      "|   mean|-0.31526943318989975|\n",
      "| stddev|  2.5848258236412742|\n",
      "|    min|                  -1|\n",
      "|    max|                 186|\n",
      "+-------+--------------------+\n",
      "\n"
     ]
    }
   ],
   "source": [
    "df_delay_ARR.select(\"ARR_test\").describe().show()"
   ]
  },
  {
   "cell_type": "code",
   "execution_count": 233,
   "id": "bdae7a10-9e87-4643-915c-40fa7a78277a",
   "metadata": {},
   "outputs": [],
   "source": [
    "import pandas as pd\n",
    "def create_delay_group():\n",
    "    data = []\n",
    "    for i in range(-1,188):\n",
    "        if i == -1:\n",
    "            data.append([-1,\"Early\"])\n",
    "        elif i == 0:\n",
    "            data.append([0,\"On Time\"])\n",
    "        else:\n",
    "            data.append([i, \"{} <= delay time < {}\".format(i * 15, (i + 1) * 15)])\n",
    "        \n",
    "        \n",
    "    df = pd.DataFrame(data=data, columns=['delay_group', 'delay_time_range(minutes)'])\n",
    "    df.to_csv('data/delay_group.csv', index=False)    "
   ]
  },
  {
   "cell_type": "code",
   "execution_count": 234,
   "id": "b8334724-d591-4327-a907-23880ece9bfd",
   "metadata": {},
   "outputs": [],
   "source": [
    "create_delay_group()"
   ]
  },
  {
   "cell_type": "code",
   "execution_count": 235,
   "id": "5c5bd8ba-afe3-45da-8668-a2d1ae4b6ac5",
   "metadata": {},
   "outputs": [],
   "source": [
    "df_delay =spark.read.csv(\"data/delay_group.csv\",header =True)"
   ]
  },
  {
   "cell_type": "code",
   "execution_count": 240,
   "id": "06f93b66-9dd4-4bb6-a2cb-0690d5aa25be",
   "metadata": {},
   "outputs": [
    {
     "name": "stdout",
     "output_type": "stream",
     "text": [
      "+-----------+-------------------------+\n",
      "|delay_group|delay_time_range(minutes)|\n",
      "+-----------+-------------------------+\n",
      "|-1         |Early                    |\n",
      "|0          |On Time                  |\n",
      "|1          |15 <= delay time < 30    |\n",
      "|2          |30 <= delay time < 45    |\n",
      "|3          |45 <= delay time < 60    |\n",
      "|4          |60 <= delay time < 75    |\n",
      "|5          |75 <= delay time < 90    |\n",
      "|6          |90 <= delay time < 105   |\n",
      "|7          |105 <= delay time < 120  |\n",
      "|8          |120 <= delay time < 135  |\n",
      "|9          |135 <= delay time < 150  |\n",
      "|10         |150 <= delay time < 165  |\n",
      "|11         |165 <= delay time < 180  |\n",
      "|12         |180 <= delay time < 195  |\n",
      "|13         |195 <= delay time < 210  |\n",
      "|14         |210 <= delay time < 225  |\n",
      "|15         |225 <= delay time < 240  |\n",
      "|16         |240 <= delay time < 255  |\n",
      "|17         |255 <= delay time < 270  |\n",
      "|18         |270 <= delay time < 285  |\n",
      "+-----------+-------------------------+\n",
      "only showing top 20 rows\n",
      "\n"
     ]
    }
   ],
   "source": [
    "df_delay.show(truncate = False)"
   ]
  },
  {
   "cell_type": "code",
   "execution_count": 241,
   "id": "c238ecda-0fa4-4d45-9810-e043c56a35d4",
   "metadata": {},
   "outputs": [
    {
     "data": {
      "text/plain": [
       "[0, 1, 2, 3]"
      ]
     },
     "execution_count": 241,
     "metadata": {},
     "output_type": "execute_result"
    }
   ],
   "source": [
    "[i for i in range(4)]"
   ]
  },
  {
   "cell_type": "code",
   "execution_count": 243,
   "id": "f09a5809-6638-4527-a40a-3dd1df0770c2",
   "metadata": {},
   "outputs": [
    {
     "name": "stdout",
     "output_type": "stream",
     "text": [
      "root\n",
      " |-- YEAR: string (nullable = true)\n",
      " |-- QUARTER: string (nullable = true)\n",
      " |-- MONTH: string (nullable = true)\n",
      " |-- DAY_OF_MONTH: string (nullable = true)\n",
      " |-- DAY_OF_WEEK: string (nullable = true)\n",
      " |-- FL_DATE: string (nullable = true)\n",
      " |-- MKT_UNIQUE_CARRIER: string (nullable = true)\n",
      " |-- MKT_CARRIER_FL_NUM: string (nullable = true)\n",
      " |-- TAIL_NUM: string (nullable = true)\n",
      " |-- ORIGIN: string (nullable = true)\n",
      " |-- ORIGIN_CITY_NAME: string (nullable = true)\n",
      " |-- ORIGIN_STATE_ABR: string (nullable = true)\n",
      " |-- ORIGIN_STATE_NM: string (nullable = true)\n",
      " |-- DEST: string (nullable = true)\n",
      " |-- DEST_CITY_NAME: string (nullable = true)\n",
      " |-- DEST_STATE_ABR: string (nullable = true)\n",
      " |-- DEST_STATE_NM: string (nullable = true)\n",
      " |-- CRS_DEP_TIME: string (nullable = true)\n",
      " |-- DEP_TIME: string (nullable = true)\n",
      " |-- DEP_DELAY: string (nullable = true)\n",
      " |-- DEP_DELAY_NEW: string (nullable = true)\n",
      " |-- DEP_DEL15: string (nullable = true)\n",
      " |-- DEP_DELAY_GROUP: string (nullable = true)\n",
      " |-- DEP_TIME_BLK: string (nullable = true)\n",
      " |-- TAXI_OUT: string (nullable = true)\n",
      " |-- WHEELS_OFF: string (nullable = true)\n",
      " |-- WHEELS_ON: string (nullable = true)\n",
      " |-- TAXI_IN: string (nullable = true)\n",
      " |-- CRS_ARR_TIME: string (nullable = true)\n",
      " |-- ARR_TIME: string (nullable = true)\n",
      " |-- ARR_DELAY: string (nullable = true)\n",
      " |-- ARR_DELAY_NEW: string (nullable = true)\n",
      " |-- ARR_DEL15: string (nullable = true)\n",
      " |-- ARR_DELAY_GROUP: string (nullable = true)\n",
      " |-- ARR_TIME_BLK: string (nullable = true)\n",
      " |-- CANCELLED: string (nullable = true)\n",
      " |-- CANCELLATION_CODE: string (nullable = true)\n",
      " |-- CRS_ELAPSED_TIME: string (nullable = true)\n",
      " |-- ACTUAL_ELAPSED_TIME: string (nullable = true)\n",
      " |-- AIR_TIME: string (nullable = true)\n",
      " |-- DISTANCE: string (nullable = true)\n",
      " |-- DISTANCE_GROUP: string (nullable = true)\n",
      " |-- CARRIER_DELAY: string (nullable = true)\n",
      " |-- WEATHER_DELAY: string (nullable = true)\n",
      " |-- NAS_DELAY: string (nullable = true)\n",
      " |-- SECURITY_DELAY: string (nullable = true)\n",
      " |-- LATE_AIRCRAFT_DELAY: string (nullable = true)\n",
      "\n"
     ]
    }
   ],
   "source": [
    "df.printSchema()"
   ]
  },
  {
   "cell_type": "code",
   "execution_count": 245,
   "id": "6520c8cd-0a6f-4716-a021-583abe36a192",
   "metadata": {},
   "outputs": [
    {
     "name": "stdout",
     "output_type": "stream",
     "text": [
      "+---------+\n",
      "|  FL_DATE|\n",
      "+---------+\n",
      "|1/30/2020|\n",
      "|1/15/2020|\n",
      "|1/20/2020|\n",
      "| 1/8/2020|\n",
      "|1/21/2020|\n",
      "|1/16/2020|\n",
      "|1/10/2020|\n",
      "|1/22/2020|\n",
      "|1/18/2020|\n",
      "| 1/7/2020|\n",
      "| 1/4/2020|\n",
      "| 1/5/2020|\n",
      "|1/25/2020|\n",
      "| 1/6/2020|\n",
      "|1/27/2020|\n",
      "|1/28/2020|\n",
      "|1/24/2020|\n",
      "|1/17/2020|\n",
      "|1/29/2020|\n",
      "|1/11/2020|\n",
      "+---------+\n",
      "only showing top 20 rows\n",
      "\n"
     ]
    }
   ],
   "source": [
    "df.select(\"FL_DATE\").dropDuplicates().show()"
   ]
  },
  {
   "cell_type": "code",
   "execution_count": 246,
   "id": "114cc7bd-a783-45e4-ac40-26f768ace9b1",
   "metadata": {},
   "outputs": [],
   "source": [
    "from pyspark.sql.functions import *"
   ]
  },
  {
   "cell_type": "code",
   "execution_count": 256,
   "id": "131cc225-eed2-4b0c-8787-27564bbf1a5c",
   "metadata": {},
   "outputs": [
    {
     "name": "stdout",
     "output_type": "stream",
     "text": [
      "+------+\n",
      "|Flight|\n",
      "+------+\n",
      "|  null|\n",
      "+------+\n",
      "\n"
     ]
    }
   ],
   "source": [
    "df1=df.withColumn(\"Flight\", (col(\"FL_DATE\").cast(\"date\")))\n",
    "df1.select(\"Flight\").dropDuplicates().show()"
   ]
  },
  {
   "cell_type": "code",
   "execution_count": 258,
   "id": "11a0f03d-8bda-4088-995b-93ebad3243ab",
   "metadata": {},
   "outputs": [],
   "source": [
    "from datetime import datetime\n",
    "from pyspark.sql.types import DateType"
   ]
  },
  {
   "cell_type": "code",
   "execution_count": 259,
   "id": "06a74b50-a267-4c13-a364-f2042c9ba220",
   "metadata": {},
   "outputs": [],
   "source": [
    "\n",
    "func =  udf (lambda x: datetime.strptime(x, '%m/%d/%Y'), DateType())"
   ]
  },
  {
   "cell_type": "code",
   "execution_count": 260,
   "id": "8e2a416a-0a91-471a-ba1b-f045e08fb252",
   "metadata": {},
   "outputs": [],
   "source": [
    "df1 = df.withColumn('flight_date', func(col('FL_DATE')))"
   ]
  },
  {
   "cell_type": "code",
   "execution_count": 264,
   "id": "51f2b3d6-acce-4db7-af3a-84aa98cb627b",
   "metadata": {},
   "outputs": [
    {
     "name": "stdout",
     "output_type": "stream",
     "text": [
      "+-----------+\n",
      "|flight_date|\n",
      "+-----------+\n",
      "| 2020-01-01|\n",
      "| 2020-01-01|\n",
      "| 2020-01-01|\n",
      "| 2020-01-01|\n",
      "| 2020-01-01|\n",
      "| 2020-01-01|\n",
      "| 2020-01-01|\n",
      "| 2020-01-01|\n",
      "| 2020-01-01|\n",
      "| 2020-01-01|\n",
      "| 2020-01-01|\n",
      "| 2020-01-01|\n",
      "| 2020-01-01|\n",
      "| 2020-01-01|\n",
      "| 2020-01-01|\n",
      "| 2020-01-01|\n",
      "| 2020-01-01|\n",
      "| 2020-01-01|\n",
      "| 2020-01-01|\n",
      "| 2020-01-01|\n",
      "+-----------+\n",
      "only showing top 20 rows\n",
      "\n"
     ]
    }
   ],
   "source": [
    "df1.select('flight_date').show()"
   ]
  },
  {
   "cell_type": "code",
   "execution_count": 266,
   "id": "092f8f7e-d6b2-4b58-9381-5e4d7a4cb9f7",
   "metadata": {},
   "outputs": [],
   "source": [
    "string_to_date= udf(lambda x: datetime.strptime(x, '%m/%d/%Y'), DateType())"
   ]
  },
  {
   "cell_type": "code",
   "execution_count": 269,
   "id": "4bfcf82a-0396-4a35-bd01-b8c21b30e40f",
   "metadata": {},
   "outputs": [
    {
     "name": "stdout",
     "output_type": "stream",
     "text": [
      "+-----------+\n",
      "|flight_date|\n",
      "+-----------+\n",
      "| 2020-01-21|\n",
      "| 2020-01-17|\n",
      "| 2020-01-25|\n",
      "| 2020-01-10|\n",
      "| 2020-01-24|\n",
      "| 2020-01-04|\n",
      "| 2020-01-13|\n",
      "| 2020-01-11|\n",
      "| 2020-01-28|\n",
      "| 2020-01-22|\n",
      "| 2020-01-03|\n",
      "| 2020-01-07|\n",
      "| 2020-01-05|\n",
      "| 2020-01-06|\n",
      "| 2020-01-27|\n",
      "| 2020-01-30|\n",
      "| 2020-01-12|\n",
      "| 2020-01-19|\n",
      "| 2020-01-23|\n",
      "| 2020-01-16|\n",
      "+-----------+\n",
      "only showing top 20 rows\n",
      "\n"
     ]
    }
   ],
   "source": [
    "df1 = df.withColumn('flight_date', string_to_date(col('FL_DATE'))).drop(\"FL_DATE\")\n",
    "df1.select('flight_date').dropDuplicates().show()"
   ]
  },
  {
   "cell_type": "code",
   "execution_count": 270,
   "id": "5f0aaa8f-aaf0-47b4-be32-1cf7d1822dc6",
   "metadata": {},
   "outputs": [
    {
     "data": {
      "text/plain": [
       "['YEAR',\n",
       " 'QUARTER',\n",
       " 'MONTH',\n",
       " 'DAY_OF_MONTH',\n",
       " 'DAY_OF_WEEK',\n",
       " 'FL_DATE',\n",
       " 'MKT_UNIQUE_CARRIER',\n",
       " 'MKT_CARRIER_FL_NUM',\n",
       " 'TAIL_NUM',\n",
       " 'ORIGIN',\n",
       " 'ORIGIN_CITY_NAME',\n",
       " 'ORIGIN_STATE_ABR',\n",
       " 'ORIGIN_STATE_NM',\n",
       " 'DEST',\n",
       " 'DEST_CITY_NAME',\n",
       " 'DEST_STATE_ABR',\n",
       " 'DEST_STATE_NM',\n",
       " 'CRS_DEP_TIME',\n",
       " 'DEP_TIME',\n",
       " 'DEP_DELAY',\n",
       " 'DEP_DELAY_NEW',\n",
       " 'DEP_DEL15',\n",
       " 'DEP_DELAY_GROUP',\n",
       " 'DEP_TIME_BLK',\n",
       " 'TAXI_OUT',\n",
       " 'WHEELS_OFF',\n",
       " 'WHEELS_ON',\n",
       " 'TAXI_IN',\n",
       " 'CRS_ARR_TIME',\n",
       " 'ARR_TIME',\n",
       " 'ARR_DELAY',\n",
       " 'ARR_DELAY_NEW',\n",
       " 'ARR_DEL15',\n",
       " 'ARR_DELAY_GROUP',\n",
       " 'ARR_TIME_BLK',\n",
       " 'CANCELLED',\n",
       " 'CANCELLATION_CODE',\n",
       " 'CRS_ELAPSED_TIME',\n",
       " 'ACTUAL_ELAPSED_TIME',\n",
       " 'AIR_TIME',\n",
       " 'DISTANCE',\n",
       " 'DISTANCE_GROUP',\n",
       " 'CARRIER_DELAY',\n",
       " 'WEATHER_DELAY',\n",
       " 'NAS_DELAY',\n",
       " 'SECURITY_DELAY',\n",
       " 'LATE_AIRCRAFT_DELAY']"
      ]
     },
     "execution_count": 270,
     "metadata": {},
     "output_type": "execute_result"
    }
   ],
   "source": [
    "df.columns"
   ]
  },
  {
   "cell_type": "code",
   "execution_count": 278,
   "id": "fe5fe840-3fd3-44e3-a60c-76fee734976d",
   "metadata": {},
   "outputs": [
    {
     "name": "stdout",
     "output_type": "stream",
     "text": [
      "+------------------+\n",
      "|MKT_CARRIER_FL_NUM|\n",
      "+------------------+\n",
      "|              5888|\n",
      "|              6276|\n",
      "|              4598|\n",
      "|              4761|\n",
      "|              5162|\n",
      "+------------------+\n",
      "only showing top 5 rows\n",
      "\n"
     ]
    }
   ],
   "source": [
    "df.select('MKT_CARRIER_FL_NUM').show(5)"
   ]
  },
  {
   "cell_type": "code",
   "execution_count": 309,
   "id": "76b2787b-b71b-4a8e-99c6-9542c1feeae5",
   "metadata": {},
   "outputs": [
    {
     "data": {
      "text/plain": [
       "7003"
      ]
     },
     "execution_count": 309,
     "metadata": {},
     "output_type": "execute_result"
    }
   ],
   "source": [
    "df.select(\"MKT_CARRIER_FL_NUM\").dropDuplicates().count()"
   ]
  },
  {
   "cell_type": "code",
   "execution_count": 277,
   "id": "3ee85f56-9a50-467b-a179-0f02916731ef",
   "metadata": {},
   "outputs": [
    {
     "data": {
      "text/plain": [
       "7003"
      ]
     },
     "execution_count": 277,
     "metadata": {},
     "output_type": "execute_result"
    }
   ],
   "source": [
    "df.select(\"MKT_CARRIER_FL_NUM\").dropDuplicates().count()"
   ]
  },
  {
   "cell_type": "code",
   "execution_count": 365,
   "id": "fde66dde-ca9c-40a8-aee4-b5eae1223086",
   "metadata": {},
   "outputs": [],
   "source": [
    "df2=df.select(\"MKT_UNIQUE_CARRIER\",\"MKT_CARRIER_FL_NUM\",\"ORIGIN\",\"DEST\").dropDuplicates()"
   ]
  },
  {
   "cell_type": "code",
   "execution_count": 310,
   "id": "8956df94-5a76-4fce-a07f-a9462022f24d",
   "metadata": {},
   "outputs": [
    {
     "data": {
      "text/plain": [
       "127667"
      ]
     },
     "execution_count": 310,
     "metadata": {},
     "output_type": "execute_result"
    }
   ],
   "source": [
    "df.select(\"MKT_UNIQUE_CARRIER\",\"MKT_CARRIER_FL_NUM\",\"ORIGIN\",\"DEST\").dropDuplicates().count()"
   ]
  },
  {
   "cell_type": "code",
   "execution_count": 305,
   "id": "3b2c5c5b-215e-41ba-bd7d-1dea7e93ce67",
   "metadata": {},
   "outputs": [
    {
     "name": "stdout",
     "output_type": "stream",
     "text": [
      "+------------------+------------------+------+----+\n",
      "|MKT_UNIQUE_CARRIER|MKT_CARRIER_FL_NUM|ORIGIN|DEST|\n",
      "+------------------+------------------+------+----+\n",
      "|                WN|              2171|   SFO| ONT|\n",
      "|                WN|              4870|   SFO| ONT|\n",
      "|                WN|              2176|   SFO| ONT|\n",
      "|                WN|              3022|   SFO| ONT|\n",
      "|                WN|              1422|   SFO| ONT|\n",
      "|                WN|              3797|   SFO| ONT|\n",
      "|                WN|              2583|   SFO| ONT|\n",
      "|                WN|               302|   SFO| ONT|\n",
      "|                WN|              1817|   SFO| ONT|\n",
      "|                WN|              1690|   SFO| ONT|\n",
      "|                WN|              2996|   SFO| ONT|\n",
      "|                WN|              5828|   SFO| ONT|\n",
      "|                WN|              2357|   SFO| ONT|\n",
      "|                WN|              5033|   SFO| ONT|\n",
      "|                WN|              6215|   SFO| ONT|\n",
      "|                WN|              2925|   SFO| ONT|\n",
      "|                WN|              3753|   SFO| ONT|\n",
      "|                WN|              4639|   SFO| ONT|\n",
      "|                WN|              1260|   SFO| ONT|\n",
      "|                WN|              1819|   SFO| ONT|\n",
      "+------------------+------------------+------+----+\n",
      "only showing top 20 rows\n",
      "\n"
     ]
    }
   ],
   "source": [
    "df2.filter(col(\"MKT_UNIQUE_CARRIER\")=='WN').filter(col(\"origin\")=='SFO').filter(col(\"dest\")=='ONT').show()"
   ]
  },
  {
   "cell_type": "code",
   "execution_count": 308,
   "id": "1583eb54-15f4-443b-8112-16aba1b66750",
   "metadata": {},
   "outputs": [
    {
     "name": "stdout",
     "output_type": "stream",
     "text": [
      "+------------------+------------------+------+----+\n",
      "|MKT_UNIQUE_CARRIER|MKT_CARRIER_FL_NUM|ORIGIN|DEST|\n",
      "+------------------+------------------+------+----+\n",
      "|                WN|              2171|   SFO| ONT|\n",
      "|                WN|              2171|   TPA| BWI|\n",
      "|                WN|              2171|   BWI| PHX|\n",
      "|                WN|              2171|   TPA| MDW|\n",
      "|                WN|              2171|   MDW| SEA|\n",
      "|                WN|              2171|   MDW| SJC|\n",
      "|                WN|              2171|   STL| MDW|\n",
      "|                WN|              2171|   MCI| DAL|\n",
      "|                WN|              2171|   DAL| SAT|\n",
      "|                WN|              2171|   SAT| STL|\n",
      "|                WN|              2171|   MSY| LGA|\n",
      "|                WN|              2171|   FLL| MSY|\n",
      "+------------------+------------------+------+----+\n",
      "\n"
     ]
    }
   ],
   "source": [
    "df2.filter(col(\"MKT_UNIQUE_CARRIER\")=='WN').filter(col(\"MKT_CARRIER_FL_NUM\")=='2171').show()"
   ]
  },
  {
   "cell_type": "code",
   "execution_count": 311,
   "id": "28aa0db9-5ce6-432f-b962-00ab904021f4",
   "metadata": {},
   "outputs": [
    {
     "name": "stdout",
     "output_type": "stream",
     "text": [
      "+------------------+------------------+------+----+\n",
      "|MKT_UNIQUE_CARRIER|MKT_CARRIER_FL_NUM|ORIGIN|DEST|\n",
      "+------------------+------------------+------+----+\n",
      "|                WN|              6764|   PIT| MCO|\n",
      "|                WN|              5495|   SAT| DAL|\n",
      "|                WN|              6348|   SAT| ELP|\n",
      "|                WN|              5260|   SJC| SNA|\n",
      "|                WN|              6150|   SNA| OAK|\n",
      "|                WN|              2699|   SNA| SMF|\n",
      "|                WN|              3540|   TPA| DEN|\n",
      "|                WN|              3518|   TUL| LAS|\n",
      "|                WN|              4207|   TUS| LAS|\n",
      "|                WN|              2046|   OAK| LAX|\n",
      "|                WN|              1896|   OAK| ONT|\n",
      "|                WN|              1962|   PDX| SJC|\n",
      "|                WN|              1674|   SAN| AUS|\n",
      "|                WN|              3688|   SAN| OAK|\n",
      "|                WN|              1973|   SAN| SMF|\n",
      "|                WN|              2102|   SJC| SNA|\n",
      "|                WN|               147|   SMF| PHX|\n",
      "|                WN|              1138|   SNA| OAK|\n",
      "|                WN|              1871|   TPA| MHT|\n",
      "|                WN|               350|   ATL| MDW|\n",
      "+------------------+------------------+------+----+\n",
      "only showing top 20 rows\n",
      "\n"
     ]
    }
   ],
   "source": [
    "df2.show()"
   ]
  },
  {
   "cell_type": "code",
   "execution_count": null,
   "id": "363b8114-c570-4120-9b88-365d38faa049",
   "metadata": {},
   "outputs": [],
   "source": [
    "def create_airline_table(path):\n",
    "        \"\"\"\n",
    "        Function: Generate and create airlines table code\n",
    "        param: path of datafile\n",
    "        input: .txt file\n",
    "        output: airline.csv file stored in data folder\n",
    "        \"\"\"\n",
    "        with open(path1) as f:\n",
    "            content = f.readlines()\n",
    "            content = [x.strip() for x in content]\n",
    "            airline = content[10:20]\n",
    "            splitted_airline = [c.split(\":\") for c in airline]\n",
    "            c_airline = [x[0].replace(\"'\",\"\").strip() for x in splitted_airline]\n",
    "            airline_name = [x[1].replace(\"'\",\"\").strip() for x in splitted_airline]\n",
    "            airline_df = pd.DataFrame({\"c_airline\" : c_airline, \"airline_name\": airline_name})\n",
    "            return "
   ]
  },
  {
   "cell_type": "code",
   "execution_count": 353,
   "id": "4e254219-cabc-42b7-b6d1-753dd33eba3c",
   "metadata": {},
   "outputs": [],
   "source": [
    "path = \"data/ColumnDescriptions.txt\"\n",
    "with open(path) as f:\n",
    "            content = f.readlines()\n",
    "            content = [x.strip() for x in content]\n",
    "            airline = content[10:20]\n",
    "            splitted_airline = [c.split(\":\") for c in airline]\n",
    "            c_airline = [x[0].replace(\"'\",\"\").strip() for x in splitted_airline]\n",
    "            airline_name = [x[1].replace(\"'\",\"\").strip() for x in splitted_airline]\n",
    "            airline_df = pd.DataFrame({\"c_airline\" : c_airline, \"airline_name\": airline_name})"
   ]
  },
  {
   "cell_type": "code",
   "execution_count": 373,
   "id": "b1142a1e-78ba-408c-997f-dc7943e8ea91",
   "metadata": {},
   "outputs": [],
   "source": [
    "path = \"data/ColumnDescriptions.txt\"\n",
    "with open(path) as f:\n",
    "            content = f.readlines()\n",
    "            content = [x.strip() for x in content]\n",
    "            airline = content[10:20]\n",
    "            splitted_airline = [c.split(\":\") for c in airline]\n",
    "            c_airline = [x[0].replace(\"'\",\"\").strip() for x in splitted_airline]\n",
    "            airline_name = [x[1].replace(\"'\",\"\").strip() for x in splitted_airline]\n",
    "            airline_df = spark.createDataFrame(zip(c_airline, airline_name), schema=['c_airline', 'airline_name'])"
   ]
  },
  {
   "cell_type": "code",
   "execution_count": 374,
   "id": "100e33de-1f8c-4e77-a0e7-c28f2ab26c67",
   "metadata": {},
   "outputs": [],
   "source": [
    "airline_df = airline_df.join(df2,airline_df.c_airline == df2.MKT_UNIQUE_CARRIER,\"inner\").drop(\"MKT_UNIQUE_CARRIER\",\"ORIGIN\",\"DEST\")"
   ]
  },
  {
   "cell_type": "code",
   "execution_count": 375,
   "id": "41b76595-96c3-4756-b47d-e00f1fb242c7",
   "metadata": {},
   "outputs": [
    {
     "name": "stdout",
     "output_type": "stream",
     "text": [
      "+---------+-----------------+------------------+\n",
      "|c_airline|     airline_name|MKT_CARRIER_FL_NUM|\n",
      "+---------+-----------------+------------------+\n",
      "|       AA|American Airlines|              3998|\n",
      "|       AA|American Airlines|              4242|\n",
      "|       AA|American Airlines|              4246|\n",
      "|       AA|American Airlines|              5054|\n",
      "|       AA|American Airlines|               779|\n",
      "|       AA|American Airlines|              3056|\n",
      "|       AA|American Airlines|              4555|\n",
      "|       AA|American Airlines|              5596|\n",
      "|       AA|American Airlines|              5600|\n",
      "|       AA|American Airlines|              5604|\n",
      "|       AA|American Airlines|              5634|\n",
      "|       AA|American Airlines|               391|\n",
      "|       AA|American Airlines|               401|\n",
      "|       AA|American Airlines|              2323|\n",
      "|       AA|American Airlines|              2406|\n",
      "|       AA|American Airlines|              4836|\n",
      "|       AA|American Airlines|              5738|\n",
      "|       AA|American Airlines|              5661|\n",
      "|       AA|American Airlines|              5220|\n",
      "|       AA|American Airlines|              5338|\n",
      "+---------+-----------------+------------------+\n",
      "only showing top 20 rows\n",
      "\n"
     ]
    }
   ],
   "source": [
    "airline_df.show()"
   ]
  },
  {
   "cell_type": "code",
   "execution_count": 377,
   "id": "b3326624-5fa9-4c41-9de5-18918534463e",
   "metadata": {},
   "outputs": [],
   "source": [
    "    def create_airline_table(path1,path2):\n",
    "        \"\"\"\n",
    "        Function: Generate and create airlines table code\n",
    "        param: \n",
    "            - path1: txt file\n",
    "            - path2: dataset file\n",
    "        output: airline.csv file stored in data folder\n",
    "        \"\"\"\n",
    "        df = spark.read.csv(path2, header=True)\n",
    "        df2 = df.select(\"MKT_UNIQUE_CARRIER\",\"MKT_CARRIER_FL_NUM\",\"ORIGIN\",\"DEST\").dropDuplicates()\n",
    "        with open(path1) as f:\n",
    "            content = f.readlines()\n",
    "            content = [x.strip() for x in content]\n",
    "            airline = content[10:20]\n",
    "            splitted_airline = [c.split(\":\") for c in airline]\n",
    "            c_airline = [x[0].replace(\"'\",\"\").strip() for x in splitted_airline]\n",
    "            airline_name = [x[1].replace(\"'\",\"\").strip() for x in splitted_airline]\n",
    "            airline_df = spark.createDataFrame(zip(c_airline, airline_name), schema=['c_airline', 'airline_name'])\n",
    "        return airline_df.join(df2,airline_df.c_airline == df2.MKT_UNIQUE_CARRIER,\"inner\")\\\n",
    "                        .drop(\"MKT_UNIQUE_CARRIER\",\"ORIGIN\",\"DEST\")"
   ]
  },
  {
   "cell_type": "code",
   "execution_count": 378,
   "id": "0415ee68-7848-4518-a220-d131de85abe4",
   "metadata": {},
   "outputs": [],
   "source": [
    "path1 ='data/ColumnDescriptions.txt'\n",
    "path2 ='data/jantojun2020.csv'"
   ]
  },
  {
   "cell_type": "code",
   "execution_count": 380,
   "id": "789874e8-a5f4-4769-a7d1-6ce3cb6dcfdc",
   "metadata": {},
   "outputs": [],
   "source": [
    "df_airline = create_airline_table(path1,path2)"
   ]
  },
  {
   "cell_type": "code",
   "execution_count": 381,
   "id": "d1fd31f1-5208-461a-97d2-e7550e42d07e",
   "metadata": {},
   "outputs": [
    {
     "name": "stdout",
     "output_type": "stream",
     "text": [
      "+---------+-----------------+------------------+\n",
      "|c_airline|     airline_name|MKT_CARRIER_FL_NUM|\n",
      "+---------+-----------------+------------------+\n",
      "|       AA|American Airlines|              3998|\n",
      "|       AA|American Airlines|              4242|\n",
      "|       AA|American Airlines|              4246|\n",
      "|       AA|American Airlines|              5054|\n",
      "|       AA|American Airlines|               779|\n",
      "|       AA|American Airlines|              3056|\n",
      "|       AA|American Airlines|              4555|\n",
      "|       AA|American Airlines|              5596|\n",
      "|       AA|American Airlines|              5600|\n",
      "|       AA|American Airlines|              5604|\n",
      "|       AA|American Airlines|              5634|\n",
      "|       AA|American Airlines|               391|\n",
      "|       AA|American Airlines|               401|\n",
      "|       AA|American Airlines|              2323|\n",
      "|       AA|American Airlines|              2406|\n",
      "|       AA|American Airlines|              4836|\n",
      "|       AA|American Airlines|              5738|\n",
      "|       AA|American Airlines|              5661|\n",
      "|       AA|American Airlines|              5220|\n",
      "|       AA|American Airlines|              5338|\n",
      "+---------+-----------------+------------------+\n",
      "only showing top 20 rows\n",
      "\n"
     ]
    }
   ],
   "source": [
    "df_airline.show()"
   ]
  },
  {
   "cell_type": "code",
   "execution_count": 384,
   "id": "23515326-80f6-45d0-ac54-30b6ae7ee9ff",
   "metadata": {},
   "outputs": [
    {
     "data": {
      "text/plain": [
       "['YEAR',\n",
       " 'QUARTER',\n",
       " 'MONTH',\n",
       " 'DAY_OF_MONTH',\n",
       " 'DAY_OF_WEEK',\n",
       " 'FL_DATE',\n",
       " 'MKT_UNIQUE_CARRIER',\n",
       " 'MKT_CARRIER_FL_NUM',\n",
       " 'TAIL_NUM',\n",
       " 'ORIGIN',\n",
       " 'ORIGIN_CITY_NAME',\n",
       " 'ORIGIN_STATE_ABR',\n",
       " 'ORIGIN_STATE_NM',\n",
       " 'DEST',\n",
       " 'DEST_CITY_NAME',\n",
       " 'DEST_STATE_ABR',\n",
       " 'DEST_STATE_NM',\n",
       " 'CRS_DEP_TIME',\n",
       " 'DEP_TIME',\n",
       " 'DEP_DELAY',\n",
       " 'DEP_DELAY_NEW',\n",
       " 'DEP_DEL15',\n",
       " 'DEP_DELAY_GROUP',\n",
       " 'DEP_TIME_BLK',\n",
       " 'TAXI_OUT',\n",
       " 'WHEELS_OFF',\n",
       " 'WHEELS_ON',\n",
       " 'TAXI_IN',\n",
       " 'CRS_ARR_TIME',\n",
       " 'ARR_TIME',\n",
       " 'ARR_DELAY',\n",
       " 'ARR_DELAY_NEW',\n",
       " 'ARR_DEL15',\n",
       " 'ARR_DELAY_GROUP',\n",
       " 'ARR_TIME_BLK',\n",
       " 'CANCELLED',\n",
       " 'CANCELLATION_CODE',\n",
       " 'CRS_ELAPSED_TIME',\n",
       " 'ACTUAL_ELAPSED_TIME',\n",
       " 'AIR_TIME',\n",
       " 'DISTANCE',\n",
       " 'DISTANCE_GROUP',\n",
       " 'CARRIER_DELAY',\n",
       " 'WEATHER_DELAY',\n",
       " 'NAS_DELAY',\n",
       " 'SECURITY_DELAY',\n",
       " 'LATE_AIRCRAFT_DELAY']"
      ]
     },
     "execution_count": 384,
     "metadata": {},
     "output_type": "execute_result"
    }
   ],
   "source": [
    "df.columns"
   ]
  },
  {
   "cell_type": "code",
   "execution_count": 387,
   "id": "281ce039-7662-42f4-8071-235cfc107222",
   "metadata": {},
   "outputs": [
    {
     "data": {
      "text/plain": [
       "282926"
      ]
     },
     "execution_count": 387,
     "metadata": {},
     "output_type": "execute_result"
    }
   ],
   "source": [
    "df.filter('CANCELLATION_CODE is not null').count()"
   ]
  },
  {
   "cell_type": "code",
   "execution_count": 394,
   "id": "7cf634bb-ad2d-4b20-84e4-feea9edc0b87",
   "metadata": {},
   "outputs": [],
   "source": [
    "def create_airline_table(path1,path2):\n",
    "        \"\"\"\n",
    "        Function: Generate and create airlines table code\n",
    "        param:\n",
    "            - path1: txt file\n",
    "            - path2: dataset file\n",
    "        output: airline.csv file stored in data folder\n",
    "        \"\"\"\n",
    "        df = spark.read.csv(path2, header=True)\n",
    "        df2 = df.select(\"MKT_UNIQUE_CARRIER\",\"MKT_CARRIER_FL_NUM\",\"ORIGIN\",\"DEST\",\"TAIL_NUM\").dropDuplicates()\n",
    "        with open(path1) as f:\n",
    "            content = f.readlines()\n",
    "            content = [x.strip() for x in content]\n",
    "            airline = content[10:20]\n",
    "            splitted_airline = [c.split(\":\") for c in airline]\n",
    "            c_airline = [x[0].replace(\"'\",\"\").strip() for x in splitted_airline]\n",
    "            airline_name = [x[1].replace(\"'\",\"\").strip() for x in splitted_airline]\n",
    "            airline_df = spark.createDataFrame(zip(c_airline, airline_name), schema=['c_airline', 'airline_name'])\n",
    "        return airline_df.join(df2,airline_df.c_airline == df2.MKT_UNIQUE_CARRIER,\"inner\")\\\n",
    "                        .drop(\"MKT_UNIQUE_CARRIER\")"
   ]
  },
  {
   "cell_type": "code",
   "execution_count": 395,
   "id": "2daf9de4-d496-4bdf-bc28-e2e93ba949df",
   "metadata": {},
   "outputs": [],
   "source": [
    "df_1 = create_airline_table(path1,path2)"
   ]
  },
  {
   "cell_type": "code",
   "execution_count": 397,
   "id": "4d42d01e-ccfa-4edf-96ec-1f3ba87bf1b9",
   "metadata": {},
   "outputs": [
    {
     "data": {
      "text/plain": [
       "2745847"
      ]
     },
     "execution_count": 397,
     "metadata": {},
     "output_type": "execute_result"
    }
   ],
   "source": [
    "df1.count()"
   ]
  },
  {
   "cell_type": "code",
   "execution_count": 396,
   "id": "06ce4a36-323d-4adc-aff7-9908a81a718e",
   "metadata": {},
   "outputs": [
    {
     "data": {
      "text/plain": [
       "1799996"
      ]
     },
     "execution_count": 396,
     "metadata": {},
     "output_type": "execute_result"
    }
   ],
   "source": [
    "df_1.dropDuplicates().count()"
   ]
  },
  {
   "cell_type": "code",
   "execution_count": null,
   "id": "9e37206e-31da-4af1-b185-a21b00cf40f1",
   "metadata": {},
   "outputs": [],
   "source": []
  }
 ],
 "metadata": {
  "kernelspec": {
   "display_name": "Python 3 (ipykernel)",
   "language": "python",
   "name": "python3"
  },
  "language_info": {
   "codemirror_mode": {
    "name": "ipython",
    "version": 3
   },
   "file_extension": ".py",
   "mimetype": "text/x-python",
   "name": "python",
   "nbconvert_exporter": "python",
   "pygments_lexer": "ipython3",
   "version": "3.9.7"
  }
 },
 "nbformat": 4,
 "nbformat_minor": 5
}
