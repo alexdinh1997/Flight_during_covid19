{
 "cells": [
  {
   "cell_type": "markdown",
   "id": "8657d135-777f-433a-beeb-b36d67292f79",
   "metadata": {},
   "source": [
    "# COVID-19 Airline Flight Delays and Cancellations\n",
    "### Data Engineering Project\n",
    "\n",
    "#### Project Summary\n",
    "--describe your project at a high level--\n",
    "In this project, I approach it with Spark and use star schema in implement on Facts and Dimensions tables by establish a Data warehouse with parquet files format. With the final dataset which is conducted from this project, we can do statistical purposes, visualization, breakdown into segments and support for various of qualitative solution for COVID-19 Airline Flight cancellation and delays.\n",
    "\n",
    "The project follows the follow steps:\n",
    "* Step 1: Scope the Project and Gather Data\n",
    "\n",
    "**COVID-19 Airline Flight Delays and Cancellations**\n",
    "\n",
    "The United States Department of Transportation's (DOT) Bureau of Transportation Statistics tracks the on-time performance of domestic flights operated by large air carriers. The data collected is from January - June 2020 (will be updated soon) and contains relevant flight information (on-time, delayed, canceled, diverted flights) from the Top 10 United States flight carriers for 11 million flights.\n",
    "\n",
    "Note: Data is in 47 columns with full column descriptions in the attached .txt file.\n",
    "\n",
    "\n",
    "\n",
    "* Step 2: Explore and Assess the Data\n",
    "* Step 3: Define the Data Model\n",
    "* Step 4: Run ETL to Model the Data\n",
    "* Step 5: Complete Project Write Up"
   ]
  },
  {
   "cell_type": "code",
   "execution_count": 5,
   "id": "70f2115f-fc74-40a4-b50d-1d122d2d60a7",
   "metadata": {},
   "outputs": [
    {
     "ename": "SyntaxError",
     "evalue": "invalid syntax (2582949644.py, line 7)",
     "output_type": "error",
     "traceback": [
      "\u001b[0;36m  Input \u001b[0;32mIn [5]\u001b[0;36m\u001b[0m\n\u001b[0;31m    from Create_table/create_more_dim import create_dim\u001b[0m\n\u001b[0m                     ^\u001b[0m\n\u001b[0;31mSyntaxError\u001b[0m\u001b[0;31m:\u001b[0m invalid syntax\n"
     ]
    }
   ],
   "source": [
    "# Do all imports and installs here\n",
    "import pandas as pd\n",
    "from pyspark.sql import SparkSession\n",
    "from pyspark.sql.types import StringType\n",
    "from pyspark.sql.types import IntegerType\n",
    "from pyspark.sql.functions import *\n",
    "from Create_table/create_more_dim import create_dim\n",
    "from Data_wrangling/data_wranging import clean\n",
    "from pyspark.sql import SparkSession"
   ]
  },
  {
   "cell_type": "code",
   "execution_count": null,
   "id": "2b191d32-e005-4eaf-b826-032a57bd9b7a",
   "metadata": {},
   "outputs": [],
   "source": []
  }
 ],
 "metadata": {
  "kernelspec": {
   "display_name": "Python 3 (ipykernel)",
   "language": "python",
   "name": "python3"
  },
  "language_info": {
   "codemirror_mode": {
    "name": "ipython",
    "version": 3
   },
   "file_extension": ".py",
   "mimetype": "text/x-python",
   "name": "python",
   "nbconvert_exporter": "python",
   "pygments_lexer": "ipython3",
   "version": "3.9.7"
  }
 },
 "nbformat": 4,
 "nbformat_minor": 5
}
